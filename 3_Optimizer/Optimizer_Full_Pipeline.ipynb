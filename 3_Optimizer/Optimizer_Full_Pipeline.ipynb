{
 "cells": [
  {
   "cell_type": "markdown",
   "id": "fbbbaea3-1564-4116-85fd-32d4915ee378",
   "metadata": {},
   "source": [
    "# Heuristic Algorithm Pipeline with Example Implementation"
   ]
  },
  {
   "cell_type": "code",
   "execution_count": 1,
   "id": "e1e15218-4c56-4f21-9dfd-e36063974674",
   "metadata": {
    "tags": []
   },
   "outputs": [],
   "source": [
    "from google.oauth2 import service_account\n",
    "from googleapiclient.discovery import build\n",
    "from datetime import datetime, timedelta\n",
    "import os\n",
    "import vertexai\n",
    "from vertexai.generative_models import GenerativeModel, ChatSession\n",
    "import vertexai.preview.generative_models as generative_models\n",
    "import json\n",
    "from zoneinfo import ZoneInfo\n",
    "import ast\n",
    "import re\n",
    "import calendar"
   ]
  },
  {
   "cell_type": "code",
   "execution_count": 2,
   "id": "7d5a1fb9-9352-4297-bd0f-8018f53ef40e",
   "metadata": {
    "tags": []
   },
   "outputs": [],
   "source": [
    "def authenticate_and_initialize_services():\n",
    "    SERVICE_ACCOUNT_FILE = 'my-project-353902-c63389c23751.json'\n",
    "    SCOPES = [\n",
    "        'https://www.googleapis.com/auth/calendar',\n",
    "        'https://www.googleapis.com/auth/classroom.courses.readonly',\n",
    "        'https://www.googleapis.com/auth/classroom.coursework.me.readonly'\n",
    "    ]\n",
    "\n",
    "    if not os.path.exists(SERVICE_ACCOUNT_FILE):\n",
    "        print(\"Service account file does not exist.\")\n",
    "        return None, None\n",
    "\n",
    "    try:\n",
    "        creds = service_account.Credentials.from_service_account_file(\n",
    "            SERVICE_ACCOUNT_FILE, scopes=SCOPES)\n",
    "        \n",
    "        calendar_service = build('calendar', 'v3', credentials=creds)\n",
    "        classroom_service = build('classroom', 'v1', credentials=creds)\n",
    "        \n",
    "        return calendar_service, classroom_service\n",
    "    \n",
    "    except Exception as e:\n",
    "        print(f\"An error occurred during authentication: {str(e)}\")\n",
    "        return None, None\n",
    "\n",
    "# Usage\n",
    "calendar_service, classroom_service = authenticate_and_initialize_services()"
   ]
  },
  {
   "cell_type": "code",
   "execution_count": 3,
   "id": "893757f9-b894-494b-b011-ea50d44ac846",
   "metadata": {
    "tags": []
   },
   "outputs": [
    {
     "name": "stdout",
     "output_type": "stream",
     "text": [
      "[(datetime.datetime(2024, 8, 6, 12, 0, tzinfo=zoneinfo.ZoneInfo(key='America/Chicago')), datetime.datetime(2024, 8, 6, 19, 30, tzinfo=zoneinfo.ZoneInfo(key='America/Chicago'))), (datetime.datetime(2024, 8, 6, 20, 30, tzinfo=zoneinfo.ZoneInfo(key='America/Chicago')), datetime.datetime(2024, 8, 7, 8, 30, tzinfo=zoneinfo.ZoneInfo(key='America/Chicago'))), (datetime.datetime(2024, 8, 7, 11, 0, tzinfo=zoneinfo.ZoneInfo(key='America/Chicago')), datetime.datetime(2024, 8, 7, 12, 0, tzinfo=zoneinfo.ZoneInfo(key='America/Chicago'))), (datetime.datetime(2024, 8, 7, 13, 30, tzinfo=zoneinfo.ZoneInfo(key='America/Chicago')), datetime.datetime(2024, 8, 8, 9, 0, tzinfo=zoneinfo.ZoneInfo(key='America/Chicago'))), (datetime.datetime(2024, 8, 8, 12, 0, tzinfo=zoneinfo.ZoneInfo(key='America/Chicago')), datetime.datetime(2024, 8, 9, 9, 30, tzinfo=zoneinfo.ZoneInfo(key='America/Chicago'))), (datetime.datetime(2024, 8, 9, 11, 0, tzinfo=zoneinfo.ZoneInfo(key='America/Chicago')), datetime.datetime(2024, 8, 9, 12, 0, tzinfo=zoneinfo.ZoneInfo(key='America/Chicago'))), (datetime.datetime(2024, 8, 9, 13, 30, tzinfo=zoneinfo.ZoneInfo(key='America/Chicago')), datetime.datetime(2024, 8, 12, 9, 30, tzinfo=zoneinfo.ZoneInfo(key='America/Chicago'))), (datetime.datetime(2024, 8, 12, 11, 0, tzinfo=zoneinfo.ZoneInfo(key='America/Chicago')), datetime.datetime(2024, 8, 12, 12, 0, tzinfo=zoneinfo.ZoneInfo(key='America/Chicago'))), (datetime.datetime(2024, 8, 12, 13, 30, tzinfo=zoneinfo.ZoneInfo(key='America/Chicago')), datetime.datetime(2024, 8, 13, 9, 0, tzinfo=zoneinfo.ZoneInfo(key='America/Chicago')))]\n"
     ]
    }
   ],
   "source": [
    "def get_free_time_slots(service, calendar_id, min_time, max_time):\n",
    "    if isinstance(min_time, str):\n",
    "        min_time = datetime.fromisoformat(min_time)\n",
    "    if isinstance(max_time, str):\n",
    "        max_time = datetime.fromisoformat(max_time)\n",
    "\n",
    "    local_tz = ZoneInfo(\"America/Chicago\")\n",
    "    min_time = min_time.replace(tzinfo=local_tz)\n",
    "    max_time = max_time.replace(tzinfo=local_tz)\n",
    "\n",
    "    events_result = service.events().list(calendarId=calendar_id,\n",
    "                                          timeMin=min_time.isoformat(),\n",
    "                                          timeMax=max_time.isoformat(),\n",
    "                                          singleEvents=True,\n",
    "                                          orderBy='startTime').execute()\n",
    "    events = events_result.get('items', [])\n",
    "    \n",
    "    free_slots = [(min_time, max_time)]\n",
    "\n",
    "    for event in events:\n",
    "        start = datetime.fromisoformat(event['start'].get('dateTime', event['start'].get('date')))\n",
    "        end = datetime.fromisoformat(event['end'].get('dateTime', event['end'].get('date')))\n",
    "        \n",
    "        # Explicitly set the timezone and adjust for DST\n",
    "        start = start.replace(tzinfo=local_tz)\n",
    "        end = end.replace(tzinfo=local_tz)\n",
    "        \n",
    "        # Adjust for potential DST differences\n",
    "        if start.dst() != min_time.dst():\n",
    "            start += timedelta(hours=1)\n",
    "        if end.dst() != min_time.dst():\n",
    "            end += timedelta(hours=1)\n",
    "\n",
    "        new_free_slots = []\n",
    "        for free_start, free_end in free_slots:\n",
    "            if end <= free_start or start >= free_end:\n",
    "                new_free_slots.append((free_start, free_end))\n",
    "            else:\n",
    "                if start > free_start:\n",
    "                    new_free_slots.append((free_start, start))\n",
    "                if end < free_end:\n",
    "                    new_free_slots.append((end, free_end))\n",
    "        free_slots = new_free_slots\n",
    "\n",
    "    return free_slots\n",
    "\n",
    "chicago_tz = ZoneInfo(\"America/Chicago\")\n",
    "current_time = datetime.now(chicago_tz)\n",
    "\n",
    "# Set the start time to the current time, rounded to the nearest minute\n",
    "min_time = current_time.replace(second=0, microsecond=0)\n",
    "\n",
    "# Set the end time to exactly 7 days from the current time\n",
    "max_time = min_time + timedelta(days=7)\n",
    "\n",
    "\n",
    "free_slots = get_free_time_slots(calendar_service, 'nickramen.uchicago@gmail.com', min_time, max_time)\n",
    "print(free_slots)"
   ]
  },
  {
   "cell_type": "code",
   "execution_count": 4,
   "id": "84bb32f2-06c3-4be8-8b7d-a704c06f24cd",
   "metadata": {
    "tags": []
   },
   "outputs": [],
   "source": [
    "def list_calendar_events(service, calendar_id, min_time, max_time):\n",
    "    \"\"\"\n",
    "    List events from a Google Calendar within a specified time range.\n",
    "\n",
    "    :param service: Authenticated Google Calendar API service object\n",
    "    :param calendar_id: ID of the calendar to fetch events from\n",
    "    :param min_time: Start of the time range (datetime or ISO format string)\n",
    "    :param max_time: End of the time range (datetime or ISO format string)\n",
    "    :return: List of event dictionaries\n",
    "    \"\"\"\n",
    "    if isinstance(min_time, str):\n",
    "        min_time = datetime.fromisoformat(min_time)\n",
    "    if isinstance(max_time, str):\n",
    "        max_time = datetime.fromisoformat(max_time)\n",
    "\n",
    "    # Set timezone\n",
    "    local_tz = ZoneInfo(\"America/Chicago\")\n",
    "    min_time = min_time.replace(tzinfo=local_tz)\n",
    "    max_time = max_time.replace(tzinfo=local_tz)\n",
    "\n",
    "    # Fetch events from the calendar\n",
    "    events_result = service.events().list(calendarId=calendar_id,\n",
    "                                          timeMin=min_time.isoformat(),\n",
    "                                          timeMax=max_time.isoformat(),\n",
    "                                          singleEvents=True,\n",
    "                                          orderBy='startTime').execute()\n",
    "    events = events_result.get('items', [])\n",
    "\n",
    "    # Process and return the events\n",
    "    processed_events = []\n",
    "    for event in events:\n",
    "        start = datetime.fromisoformat(event['start'].get('dateTime', event['start'].get('date')))\n",
    "        end = datetime.fromisoformat(event['end'].get('dateTime', event['end'].get('date')))\n",
    "        \n",
    "        # Set timezone and adjust for DST\n",
    "        start = start.replace(tzinfo=local_tz)\n",
    "        end = end.replace(tzinfo=local_tz)\n",
    "        \n",
    "        processed_events.append({\n",
    "            'summary': event.get('summary', 'No title'),\n",
    "            'start': start,\n",
    "            'end': end,\n",
    "            'id': event['id']        })\n",
    "\n",
    "    return processed_events\n",
    "\n",
    "chicago_tz = ZoneInfo(\"America/Chicago\")\n",
    "current_time = datetime.now(chicago_tz)\n",
    "min_time = current_time.replace(second=0, microsecond=0)\n",
    "max_time = min_time + timedelta(days=7)\n",
    "\n",
    "events = list_calendar_events(calendar_service, 'nickramen.uchicago@gmail.com', min_time, max_time)"
   ]
  },
  {
   "cell_type": "code",
   "execution_count": 5,
   "id": "1c74ea86-eccd-40c2-a80c-b0c002f06f43",
   "metadata": {
    "tags": []
   },
   "outputs": [
    {
     "data": {
      "text/plain": [
       "[{'summary': 'Brunch with Mom',\n",
       "  'start': datetime.datetime(2024, 8, 6, 10, 30, tzinfo=zoneinfo.ZoneInfo(key='America/Chicago')),\n",
       "  'end': datetime.datetime(2024, 8, 6, 12, 0, tzinfo=zoneinfo.ZoneInfo(key='America/Chicago')),\n",
       "  'id': 'k1qrmd6qtducatj0uvie75aj58_20240806T153000Z'},\n",
       " {'summary': 'Baseball Practice ',\n",
       "  'start': datetime.datetime(2024, 8, 6, 19, 30, tzinfo=zoneinfo.ZoneInfo(key='America/Chicago')),\n",
       "  'end': datetime.datetime(2024, 8, 6, 20, 30, tzinfo=zoneinfo.ZoneInfo(key='America/Chicago')),\n",
       "  'id': '3ns042ibrshgo0vaj5d5ktblqu_20240807T003000Z'},\n",
       " {'summary': 'Therapy',\n",
       "  'start': datetime.datetime(2024, 8, 7, 8, 30, tzinfo=zoneinfo.ZoneInfo(key='America/Chicago')),\n",
       "  'end': datetime.datetime(2024, 8, 7, 9, 30, tzinfo=zoneinfo.ZoneInfo(key='America/Chicago')),\n",
       "  'id': '3db8dik0kmqqcsht0ug5l284g3_20240807T133000Z'},\n",
       " {'summary': 'Class: Marketing Analytics',\n",
       "  'start': datetime.datetime(2024, 8, 7, 9, 30, tzinfo=zoneinfo.ZoneInfo(key='America/Chicago')),\n",
       "  'end': datetime.datetime(2024, 8, 7, 11, 0, tzinfo=zoneinfo.ZoneInfo(key='America/Chicago')),\n",
       "  'id': '2lb91k1kt3unvdh9et245sreug'},\n",
       " {'summary': 'Class: Statistical Analysis',\n",
       "  'start': datetime.datetime(2024, 8, 7, 12, 0, tzinfo=zoneinfo.ZoneInfo(key='America/Chicago')),\n",
       "  'end': datetime.datetime(2024, 8, 7, 13, 30, tzinfo=zoneinfo.ZoneInfo(key='America/Chicago')),\n",
       "  'id': '45g83pq3athvon9us3jbf5he4b_20240807T170000Z'},\n",
       " {'summary': 'Class: Introduction to Art History ',\n",
       "  'start': datetime.datetime(2024, 8, 8, 9, 0, tzinfo=zoneinfo.ZoneInfo(key='America/Chicago')),\n",
       "  'end': datetime.datetime(2024, 8, 8, 10, 30, tzinfo=zoneinfo.ZoneInfo(key='America/Chicago')),\n",
       "  'id': '7a3d6tfvcseepgakvn5k2qslo6_20240808T140000Z'},\n",
       " {'summary': 'Brunch with Mom',\n",
       "  'start': datetime.datetime(2024, 8, 8, 10, 30, tzinfo=zoneinfo.ZoneInfo(key='America/Chicago')),\n",
       "  'end': datetime.datetime(2024, 8, 8, 12, 0, tzinfo=zoneinfo.ZoneInfo(key='America/Chicago')),\n",
       "  'id': 'k1qrmd6qtducatj0uvie75aj58_20240808T153000Z'},\n",
       " {'summary': 'Class: Marketing Analytics',\n",
       "  'start': datetime.datetime(2024, 8, 9, 9, 30, tzinfo=zoneinfo.ZoneInfo(key='America/Chicago')),\n",
       "  'end': datetime.datetime(2024, 8, 9, 11, 0, tzinfo=zoneinfo.ZoneInfo(key='America/Chicago')),\n",
       "  'id': '3vbjfva26o8fvf1v2hf6d5b90q_20240809T143000Z'},\n",
       " {'summary': 'Class: Statistical Analysis',\n",
       "  'start': datetime.datetime(2024, 8, 9, 12, 0, tzinfo=zoneinfo.ZoneInfo(key='America/Chicago')),\n",
       "  'end': datetime.datetime(2024, 8, 9, 13, 30, tzinfo=zoneinfo.ZoneInfo(key='America/Chicago')),\n",
       "  'id': '45g83pq3athvon9us3jbf5he4b_20240809T170000Z'},\n",
       " {'summary': 'Class: Marketing Analytics',\n",
       "  'start': datetime.datetime(2024, 8, 12, 9, 30, tzinfo=zoneinfo.ZoneInfo(key='America/Chicago')),\n",
       "  'end': datetime.datetime(2024, 8, 12, 11, 0, tzinfo=zoneinfo.ZoneInfo(key='America/Chicago')),\n",
       "  'id': '3vbjfva26o8fvf1v2hf6d5b90q_20240812T143000Z'},\n",
       " {'summary': 'Class: Statistical Analysis',\n",
       "  'start': datetime.datetime(2024, 8, 12, 12, 0, tzinfo=zoneinfo.ZoneInfo(key='America/Chicago')),\n",
       "  'end': datetime.datetime(2024, 8, 12, 13, 30, tzinfo=zoneinfo.ZoneInfo(key='America/Chicago')),\n",
       "  'id': '45g83pq3athvon9us3jbf5he4b_20240812T170000Z'},\n",
       " {'summary': 'Class: Introduction to Art History ',\n",
       "  'start': datetime.datetime(2024, 8, 13, 9, 0, tzinfo=zoneinfo.ZoneInfo(key='America/Chicago')),\n",
       "  'end': datetime.datetime(2024, 8, 13, 10, 30, tzinfo=zoneinfo.ZoneInfo(key='America/Chicago')),\n",
       "  'id': '7a3d6tfvcseepgakvn5k2qslo6_20240813T140000Z'},\n",
       " {'summary': 'Brunch with Mom',\n",
       "  'start': datetime.datetime(2024, 8, 13, 10, 30, tzinfo=zoneinfo.ZoneInfo(key='America/Chicago')),\n",
       "  'end': datetime.datetime(2024, 8, 13, 12, 0, tzinfo=zoneinfo.ZoneInfo(key='America/Chicago')),\n",
       "  'id': 'k1qrmd6qtducatj0uvie75aj58_20240813T153000Z'}]"
      ]
     },
     "execution_count": 5,
     "metadata": {},
     "output_type": "execute_result"
    }
   ],
   "source": [
    "events"
   ]
  },
  {
   "cell_type": "code",
   "execution_count": 6,
   "id": "10127192-46e4-4f60-9f16-914a6ccb8af6",
   "metadata": {
    "tags": []
   },
   "outputs": [
    {
     "name": "stdout",
     "output_type": "stream",
     "text": [
      "2024-08-06 12:00:00-05:00\n",
      "2024-08-06 20:30:00-05:00\n",
      "2024-08-07 11:00:00-05:00\n",
      "2024-08-07 13:30:00-05:00\n",
      "2024-08-08 12:00:00-05:00\n",
      "2024-08-09 11:00:00-05:00\n",
      "2024-08-09 13:30:00-05:00\n",
      "2024-08-12 11:00:00-05:00\n",
      "2024-08-12 13:30:00-05:00\n"
     ]
    }
   ],
   "source": [
    "for start, end in free_slots:\n",
    "    print(start)"
   ]
  },
  {
   "cell_type": "code",
   "execution_count": 7,
   "id": "223d581e-54ba-4ec1-bcff-dfa1773c7f83",
   "metadata": {
    "tags": []
   },
   "outputs": [],
   "source": [
    "def parse_time_slots(free_slots):\n",
    "    formatted_slots = {}\n",
    "    \n",
    "    for start, end in free_slots:\n",
    "        current = start\n",
    "        while current < end:\n",
    "            day = current.strftime('%A')\n",
    "            day_end = datetime.combine(current.date(), datetime.max.time()).replace(tzinfo=current.tzinfo)\n",
    "            slot_end = min(end, day_end)\n",
    "            \n",
    "            # Round start_hour to nearest quarter hour\n",
    "            start_hour = round((current.hour + current.minute / 60) * 4) / 4\n",
    "            \n",
    "            # Calculate duration\n",
    "            duration = (slot_end - current).total_seconds() / 3600  # Duration in hours\n",
    "            \n",
    "            # Round duration to nearest quarter hour\n",
    "            duration = round(duration * 4) / 4\n",
    "            \n",
    "            formatted_slots.setdefault(day, []).append((start_hour, duration))\n",
    "            \n",
    "            if slot_end == end:\n",
    "                break\n",
    "            current = slot_end.replace(hour=0, minute=0, second=0, microsecond=0) + timedelta(days=1)\n",
    "    \n",
    "    # Adjust the first day if it doesn't start at midnight\n",
    "    if formatted_slots:\n",
    "        first_day = list(formatted_slots.keys())[0]\n",
    "        first_slot = formatted_slots[first_day][0]\n",
    "        if first_slot[0] > 0:\n",
    "            formatted_slots[first_day] = [(first_slot[0], first_slot[1])]\n",
    "    \n",
    "    return formatted_slots"
   ]
  },
  {
   "cell_type": "code",
   "execution_count": 8,
   "id": "f1128dc2-ffc8-4b79-be9b-019566dda7a7",
   "metadata": {},
   "outputs": [],
   "source": [
    "weekly_time_slots = parse_time_slots(free_slots)"
   ]
  },
  {
   "cell_type": "code",
   "execution_count": 9,
   "id": "e3c90fc7-f319-4c68-a1f7-f56e2f028138",
   "metadata": {
    "tags": []
   },
   "outputs": [],
   "source": [
    "def parse_study_plan(content):\n",
    "    content = content.strip().lstrip('```python').rstrip('```').strip()\n",
    "    try:\n",
    "        # Attempt to directly evaluate the string as a Python literal\n",
    "        return ast.literal_eval(content)\n",
    "    except:\n",
    "        return None"
   ]
  },
  {
   "cell_type": "code",
   "execution_count": 10,
   "id": "aa22cdf3-3c58-4a3b-adb6-1a4d585a7d25",
   "metadata": {
    "tags": []
   },
   "outputs": [
    {
     "name": "stdout",
     "output_type": "stream",
     "text": [
      "{'Math': 'In 4 days (Saturday, 2024-08-10) at 12:00 AM', 'English': 'In 5 days (Sunday, 2024-08-11) at 12:00 AM', 'Biology': 'In 7 days - Tuesday, 2024-08-13 at 12:00 AM', 'Chemistry': 'In 3 days (Friday, 2024-08-09) at 12:00 AM'}\n"
     ]
    }
   ],
   "source": [
    "def parse_deadline(deadline_str, start_date):\n",
    "    \"\"\"\n",
    "    Parse various deadline formats and return a datetime object.\n",
    "    \n",
    "    Supported formats:\n",
    "    - \"in X days\"\n",
    "    - \"YYYY-MM-DD\"\n",
    "    - \"Day at HH:MM AM/PM\"\n",
    "    - ISO 8601 format\n",
    "    \"\"\"\n",
    "    # Check for \"in X days\" format\n",
    "    in_days_match = re.match(r'in (\\d+) days?', deadline_str, re.IGNORECASE)\n",
    "    if in_days_match:\n",
    "        days = int(in_days_match.group(1))\n",
    "        return start_date + timedelta(days=days)\n",
    "    \n",
    "    # Check for YYYY-MM-DD format\n",
    "    try:\n",
    "        return datetime.strptime(deadline_str, \"%Y-%m-%d\")\n",
    "    except ValueError:\n",
    "        pass\n",
    "    \n",
    "    # Check for \"Day at HH:MM AM/PM\" format\n",
    "    day_time_match = re.match(r'(\\w+) at (\\d{1,2}):(\\d{2}) (AM|PM)', deadline_str, re.IGNORECASE)\n",
    "    if day_time_match:\n",
    "        day, hour, minute, ampm = day_time_match.groups()\n",
    "        hour = int(hour)\n",
    "        if ampm.upper() == 'PM' and hour != 12:\n",
    "            hour += 12\n",
    "        elif ampm.upper() == 'AM' and hour == 12:\n",
    "            hour = 0\n",
    "        target_date = start_date + timedelta(days=(list(calendar.day_name).index(day) - start_date.weekday() + 7) % 7)\n",
    "        return target_date.replace(hour=hour, minute=int(minute), second=0, microsecond=0)\n",
    "    \n",
    "    # Check for ISO 8601 format\n",
    "    try:\n",
    "        return datetime.fromisoformat(deadline_str)\n",
    "    except ValueError:\n",
    "        pass\n",
    "    \n",
    "    # If no format matches, raise an error\n",
    "    raise ValueError(f\"Unsupported deadline format: {deadline_str}\")\n",
    "\n",
    "def get_enhanced_deadline_info(deadline_date, start_date):\n",
    "    \"\"\"Convert a deadline date to a more informative format.\"\"\"\n",
    "    days_until = (deadline_date - start_date).days\n",
    "    weekday = deadline_date.strftime(\"%A\")\n",
    "    date_str = deadline_date.strftime(\"%Y-%m-%d\")\n",
    "    time_str = deadline_date.strftime(\"%I:%M %p\")\n",
    "\n",
    "    if days_until < 0:\n",
    "        return f\"Past due ({abs(days_until)} days ago) - {weekday}, {date_str} at {time_str}\"\n",
    "    elif days_until == 0:\n",
    "        return f\"Today ({weekday}) at {time_str}\"\n",
    "    elif days_until == 1:\n",
    "        return f\"Tomorrow ({weekday}) at {time_str}\"\n",
    "    elif days_until < 7:\n",
    "        return f\"In {days_until} days ({weekday}, {date_str}) at {time_str}\"\n",
    "    else:\n",
    "        return f\"In {days_until} days - {weekday}, {date_str} at {time_str}\"\n",
    "\n",
    "def prepare_enhanced_deadlines(deadlines, start_date):\n",
    "    \"\"\"Prepare deadlines with enhanced information.\"\"\"\n",
    "    enhanced_deadlines = {}\n",
    "    for subject, deadline in deadlines.items():\n",
    "        deadline_date = parse_deadline(deadline, start_date)\n",
    "        enhanced_deadlines[subject] = get_enhanced_deadline_info(deadline_date, start_date)\n",
    "    return enhanced_deadlines\n",
    "\n",
    "# Example usage:\n",
    "start_date = datetime.now().replace(hour=0, minute=0, second=0, microsecond=0)\n",
    "deadlines = {\n",
    "    \"Math\": \"in 4 days\",\n",
    "    \"English\": \"in 5 days\",\n",
    "    \"Biology\": \"in 7 days\",\n",
    "    \"Chemistry\": \"in 3 days\"\n",
    "}\n",
    "\n",
    "enhanced_deadlines = prepare_enhanced_deadlines(deadlines, start_date)\n",
    "print(enhanced_deadlines)"
   ]
  },
  {
   "cell_type": "code",
   "execution_count": 11,
   "id": "7b1e2443-3049-4a1c-bb6c-c4e407497306",
   "metadata": {
    "tags": []
   },
   "outputs": [],
   "source": [
    "def multiturn_generate_content(assignments, enhanced_deadlines, priorities, start_date):\n",
    "    vertexai.init(project=\"adsp-capstone-convocrafters\", location=\"us-central1\")\n",
    "    model = GenerativeModel(\"gemini-1.5-pro-preview-0514\")\n",
    "    \n",
    "    weekdays = [start_date + timedelta(days=i) for i in range(7)]\n",
    "    weekdays_str = \", \".join([day.strftime(\"%A (%Y-%m-%d)\") for day in weekdays])\n",
    "    \n",
    "    prompt = f\"\"\"\n",
    "    Create a balanced study plan based on these assignments, deadlines, and priorities:\n",
    "\n",
    "    Assignments and Durations:\n",
    "    {assignments}\n",
    "\n",
    "    Enhanced Deadlines:\n",
    "    {enhanced_deadlines}\n",
    "\n",
    "    Priorities (listed from highest to lowest):\n",
    "    {priorities}\n",
    "\n",
    "    Available Days (in order):\n",
    "    {weekdays_str}\n",
    "\n",
    "    Follow these constraints and guidelines:\n",
    "    1. Use the provided durations exactly. The total study time for each subject must match the given duration.\n",
    "    2. Spread the assignments across the available days based on deadlines and priorities.\n",
    "    3. Prioritize subjects with imminent or past due deadlines. Allocate more time to these subjects earlier in the week.\n",
    "    4. Only use the days provided in the Available Days list.\n",
    "    5. For past due assignments, allocate time as soon as possible to catch up.\n",
    "    6. Try to balance the workload across the week, avoiding excessive studying on any single day if possible.\n",
    "    7. Consider both the priority order and deadlines when scheduling. Subjects listed earlier in the Priorities list are generally more important to the student.\n",
    "    8. If a subject has less than 1 hour total duration, you may schedule it as a single session.\n",
    "    9. Do not schedule any 0-hour study sessions. If a subject is included for a day, it must have a duration greater than 0.\n",
    "\n",
    "    Output only the study plan as a Python dictionary with each available day as a key, and the value as a list of tuples.\n",
    "    Each tuple should contain (subject, duration in hours, priority score).\n",
    "    The priority score should be a number from 1 to 5, where 5 is the highest priority. This score should be based on a combination of:\n",
    "    - The subject's position in the Priorities list\n",
    "    - The urgency of the deadline\n",
    "    - Any past due status\n",
    "\n",
    "    Example format:\n",
    "    {{\n",
    "        {weekdays[0].strftime('%A (%Y-%m-%d)')}: [(\"Math\", 2, 5), (\"English\", 1.5, 4)], \n",
    "        {weekdays[1].strftime('%A (%Y-%m-%d)')}: [(\"Biology\", 2, 3), (\"Math\", 1, 5)]\n",
    "    }}\n",
    "\n",
    "    Ensure that the study plan is realistic, takes into account the urgency of deadlines, and never includes 0-hour study sessions.\n",
    "    Subjects with higher priority scores should generally be given more favorable time slots or more frequent sessions.\n",
    "    Do not include any explanations or additional code. Only output the study plan dictionary.\n",
    "    \"\"\"\n",
    "\n",
    "    try:\n",
    "        response = model.generate_content(prompt)\n",
    "        content = response.text\n",
    "        print(\"Raw response:\", content)  # Debug print\n",
    "        study_plan = parse_study_plan(content)\n",
    "        if study_plan is None:\n",
    "            raise ValueError(\"Unable to parse a valid study plan dictionary from the response\")\n",
    "        \n",
    "        # Verify the study plan\n",
    "        total_hours = {subject: sum(duration for day in study_plan.values() for s, duration, _ in day if s == subject)\n",
    "                       for subject in assignments}\n",
    "        \n",
    "        if total_hours != assignments:\n",
    "            raise ValueError(f\"Study plan does not match the given estimates. Expected: {assignments}, Got: {total_hours}\")\n",
    "        \n",
    "        # Check for 0-hour sessions\n",
    "        for day, sessions in study_plan.items():\n",
    "            if any(duration == 0 for _, duration, _ in sessions):\n",
    "                raise ValueError(f\"Study plan contains 0-hour sessions on {day}\")\n",
    "        \n",
    "        return study_plan\n",
    "    except Exception as e:\n",
    "        print(f\"An error occurred: {str(e)}\")\n",
    "        return None"
   ]
  },
  {
   "cell_type": "code",
   "execution_count": 12,
   "id": "15472386-6039-4a01-a30e-b2b4019406c1",
   "metadata": {},
   "outputs": [
    {
     "name": "stdout",
     "output_type": "stream",
     "text": [
      "Raw response: ```python\n",
      "{\n",
      "    'Tuesday (2024-08-06)': [('Math', 2, 5), ('Chemistry', 2, 4)],\n",
      "    'Wednesday (2024-08-07)': [('Math', 2, 5), ('Chemistry', 2, 4)],\n",
      "    'Thursday (2024-08-08)': [('Math', 2, 5), ('English', 2, 4)],\n",
      "    'Friday (2024-08-09)': [('Math', 2, 5), ('English', 1, 4)],\n",
      "    'Saturday (2024-08-10)': [('English', 2, 4)],\n",
      "    'Sunday (2024-08-11)': [('Biology', 2, 3)],\n",
      "    'Monday (2024-08-12)': []\n",
      "}\n",
      "```\n",
      "\n"
     ]
    }
   ],
   "source": [
    "assignments = {\"Math\": 8, \"English\": 5, \"Biology\": 2, \"Chemistry\": 4}\n",
    "priorities = [\"Math\", \"English\", \"Biology\", \"Chemistry\"]\n",
    "start_date = datetime.now().replace(hour=0, minute=0, second=0, microsecond=0)\n",
    "\n",
    "weekly_study_plan = multiturn_generate_content(assignments, enhanced_deadlines, priorities, start_date)"
   ]
  },
  {
   "cell_type": "code",
   "execution_count": 13,
   "id": "1a5a777b-5f33-479c-91aa-afff9bce5b58",
   "metadata": {
    "tags": []
   },
   "outputs": [
    {
     "data": {
      "text/plain": [
       "{'Tuesday (2024-08-06)': [('Math', 2, 5), ('Chemistry', 2, 4)],\n",
       " 'Wednesday (2024-08-07)': [('Math', 2, 5), ('Chemistry', 2, 4)],\n",
       " 'Thursday (2024-08-08)': [('Math', 2, 5), ('English', 2, 4)],\n",
       " 'Friday (2024-08-09)': [('Math', 2, 5), ('English', 1, 4)],\n",
       " 'Saturday (2024-08-10)': [('English', 2, 4)],\n",
       " 'Sunday (2024-08-11)': [('Biology', 2, 3)],\n",
       " 'Monday (2024-08-12)': []}"
      ]
     },
     "execution_count": 13,
     "metadata": {},
     "output_type": "execute_result"
    }
   ],
   "source": [
    "weekly_study_plan"
   ]
  },
  {
   "cell_type": "code",
   "execution_count": 14,
   "id": "8d416c2e-5c70-4cf8-9758-8127e9185507",
   "metadata": {
    "tags": []
   },
   "outputs": [
    {
     "name": "stdout",
     "output_type": "stream",
     "text": [
      "Tuesday\n",
      "Wednesday\n",
      "Thursday\n",
      "Friday\n",
      "Saturday\n",
      "Sunday\n",
      "Monday\n"
     ]
    }
   ],
   "source": [
    "for day, sessions in weekly_study_plan.items():\n",
    "        day_name = day.split()[0]\n",
    "        print(day_name)"
   ]
  },
  {
   "cell_type": "code",
   "execution_count": 15,
   "id": "1954b2d1-a9bb-413e-b41a-0e9d2ca37100",
   "metadata": {
    "tags": []
   },
   "outputs": [],
   "source": [
    "def fit_study_times_into_timed_slots(weekly_plan, weekly_slots, start_hour, end_hour, buffer=0.5, morning_person=True):\n",
    "    weekly_schedule = {}\n",
    "    \n",
    "    for day, sessions in weekly_plan.items():\n",
    "        day_name = day.split()[0]\n",
    "        \n",
    "        sessions.sort(key=lambda x: x[2], reverse=True)\n",
    "        daily_schedule = []\n",
    "        time_slots = weekly_slots.get(day_name, [])\n",
    "        \n",
    "        adjusted_slots = [\n",
    "            (max(start_time, start_hour), min(start_time + duration, end_hour))\n",
    "            for start_time, duration in time_slots\n",
    "        ]\n",
    "        \n",
    "        adjusted_slots.sort(key=lambda x: x[0], reverse=not morning_person)\n",
    "        \n",
    "        for subject, duration, priority in sessions:\n",
    "            for i, (slot_start, slot_end) in enumerate(adjusted_slots):\n",
    "                if slot_end - slot_start >= buffer:\n",
    "                    study_start = slot_start + buffer if daily_schedule else slot_start\n",
    "                    study_time = min(duration, slot_end - study_start)\n",
    "                    study_end = study_start + study_time\n",
    "                    \n",
    "                    if study_end <= slot_end:\n",
    "                        daily_schedule.append((subject, study_start, study_end))\n",
    "                        duration -= study_time\n",
    "                        adjusted_slots[i] = (study_end, slot_end)\n",
    "                        \n",
    "                        if duration == 0:\n",
    "                            break\n",
    "        \n",
    "        if daily_schedule:\n",
    "            weekly_schedule[day] = daily_schedule\n",
    "    \n",
    "    return weekly_schedule"
   ]
  },
  {
   "cell_type": "code",
   "execution_count": 16,
   "id": "c87d93f2-3cef-45b9-840a-fd93ca797439",
   "metadata": {
    "tags": []
   },
   "outputs": [],
   "source": [
    "scheduled_week = fit_study_times_into_timed_slots(\n",
    "    weekly_study_plan, weekly_time_slots, start_hour=9, end_hour=20, buffer=0.50, morning_person=True)"
   ]
  },
  {
   "cell_type": "code",
   "execution_count": 17,
   "id": "42f1c70c-deb1-484c-962d-c811520edaad",
   "metadata": {
    "tags": []
   },
   "outputs": [
    {
     "data": {
      "text/plain": [
       "{'Tuesday (2024-08-06)': [('Math', 12.0, 14.0), ('Chemistry', 14.5, 16.5)],\n",
       " 'Wednesday (2024-08-07)': [('Math', 11.0, 12.0),\n",
       "  ('Math', 14.0, 15.0),\n",
       "  ('Chemistry', 15.5, 17.5)],\n",
       " 'Thursday (2024-08-08)': [('Math', 12.0, 14.0), ('English', 14.5, 16.5)],\n",
       " 'Friday (2024-08-09)': [('Math', 9, 9.5),\n",
       "  ('Math', 11.5, 12.0),\n",
       "  ('Math', 14.0, 15.0),\n",
       "  ('English', 15.5, 16.5)],\n",
       " 'Saturday (2024-08-10)': [('English', 9, 11)],\n",
       " 'Sunday (2024-08-11)': [('Biology', 9, 11)]}"
      ]
     },
     "execution_count": 17,
     "metadata": {},
     "output_type": "execute_result"
    }
   ],
   "source": [
    "scheduled_week"
   ]
  }
 ],
 "metadata": {
  "environment": {
   "kernel": "python3",
   "name": "tf2-cpu.2-11.m119",
   "type": "gcloud",
   "uri": "us-docker.pkg.dev/deeplearning-platform-release/gcr.io/tf2-cpu.2-11:m119"
  },
  "kernelspec": {
   "display_name": "Python 3",
   "language": "python",
   "name": "python3"
  },
  "language_info": {
   "codemirror_mode": {
    "name": "ipython",
    "version": 3
   },
   "file_extension": ".py",
   "mimetype": "text/x-python",
   "name": "python",
   "nbconvert_exporter": "python",
   "pygments_lexer": "ipython3",
   "version": "3.10.14"
  }
 },
 "nbformat": 4,
 "nbformat_minor": 5
}
