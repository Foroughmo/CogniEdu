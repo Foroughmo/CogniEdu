{
 "cells": [
  {
   "cell_type": "markdown",
   "id": "73c741cb-ad86-430e-9b2a-26bd8fb94c63",
   "metadata": {},
   "source": [
    "# LLM Evaluation - AI"
   ]
  },
  {
   "cell_type": "markdown",
   "id": "583a461a-42fc-48c8-a8cc-3cd8a673f0de",
   "metadata": {},
   "source": [
    "## Libraries"
   ]
  },
  {
   "cell_type": "code",
   "execution_count": 1,
   "id": "309a3c00-0df7-4f85-99e7-a810432384c1",
   "metadata": {
    "tags": []
   },
   "outputs": [],
   "source": [
    "import nbformat\n",
    "from nbformat import NO_CONVERT\n",
    "import io\n",
    "import os\n",
    "import sys\n",
    "\n",
    "# LLM Evaluation\n",
    "from langchain_google_vertexai import ChatVertexAI\n",
    "from langchain.evaluation import load_evaluator\n",
    "from langchain_core.prompts import PromptTemplate"
   ]
  },
  {
   "cell_type": "markdown",
   "id": "37d04541-63eb-445a-ad0d-85dc88a250a2",
   "metadata": {},
   "source": [
    "## Import Notebook Content"
   ]
  },
  {
   "cell_type": "code",
   "execution_count": 2,
   "id": "61233882-9877-4ca1-97e3-9956e4427948",
   "metadata": {
    "tags": []
   },
   "outputs": [],
   "source": [
    "def run_notebook(path):\n",
    "    with open(path) as f:\n",
    "        notebook_content = nbformat.read(f, as_version=NO_CONVERT)\n",
    "    code_cells = [cell['source'] for cell in notebook_content.cells if cell.cell_type == 'code']\n",
    "    code = '\\n'.join(code_cells)\n",
    "    \n",
    "    # Omit Output\n",
    "    old_stdout = sys.stdout\n",
    "    old_stderr = sys.stderr\n",
    "    sys.stdout = io.StringIO()\n",
    "    sys.stderr = io.StringIO()\n",
    "    \n",
    "    try:\n",
    "        exec(code, globals())\n",
    "    finally:\n",
    "        sys.stdout = old_stdout\n",
    "        sys.stderr = old_stderr"
   ]
  },
  {
   "cell_type": "code",
   "execution_count": 3,
   "id": "f1867f0f-ab52-47d2-bfd7-67e6adb8ca81",
   "metadata": {
    "tags": []
   },
   "outputs": [
    {
     "name": "stdin",
     "output_type": "stream",
     "text": [
      "Enter new database host (or press Enter to keep current):  \n",
      "Enter new database user (or press Enter to keep current):  \n",
      "Enter new database password (input hidden, or press Enter to keep current):  ········\n",
      "Enter new database name (or press Enter to keep current):  \n"
     ]
    }
   ],
   "source": [
    "# Gemini 1.5 Flash\n",
    "notebook_path = '/home/jupyter/2. Capstone 2/2. New Features for Testing/Model Evaluation/CC_Final_Agent_Flash.ipynb'\n",
    "run_notebook(notebook_path)"
   ]
  },
  {
   "cell_type": "markdown",
   "id": "34d891c7-b934-4630-bdcc-d94d7302db6d",
   "metadata": {},
   "source": [
    "## Questions, Reference Answers and Ed's Responses"
   ]
  },
  {
   "cell_type": "markdown",
   "id": "519cee2f-4cf7-4c4e-8106-23b7452765bd",
   "metadata": {},
   "source": [
    "#### Question 1"
   ]
  },
  {
   "cell_type": "code",
   "execution_count": 4,
   "id": "b66b19f7-9355-4886-b5dc-6e371b520ede",
   "metadata": {
    "tags": []
   },
   "outputs": [
    {
     "name": "stdout",
     "output_type": "stream",
     "text": [
      "Question 1:\n",
      "Do I have anything due on July 21st?\n"
     ]
    }
   ],
   "source": [
    "print(\"Question 1:\\n\" + question1_FLASH)"
   ]
  },
  {
   "cell_type": "code",
   "execution_count": 5,
   "id": "25ecd5b3-7d01-4d66-836c-1d07d4161514",
   "metadata": {
    "tags": []
   },
   "outputs": [
    {
     "name": "stdout",
     "output_type": "stream",
     "text": [
      "Ed's Response for Question 1:\n",
      "The only event due on July 21st is the **Statistical Analysis Quiz 2**.\n"
     ]
    }
   ],
   "source": [
    "print(\"Ed's Response for Question 1:\")\n",
    "print(response1_FLASH)"
   ]
  },
  {
   "cell_type": "code",
   "execution_count": 6,
   "id": "d8858375-9184-48e8-890e-15d45fef86c9",
   "metadata": {
    "tags": []
   },
   "outputs": [
    {
     "name": "stdout",
     "output_type": "stream",
     "text": [
      "Reference Answer for Question 1:\n",
      "On July 21st, you have Quiz 2 in Statistical Analysis due at 11:59.\n"
     ]
    }
   ],
   "source": [
    "reference_answer_q1 = \"On July 21st, you have Quiz 2 in Statistical Analysis due at 11:59.\"\n",
    "print(\"Reference Answer for Question 1:\\n\" + reference_answer_q1) "
   ]
  },
  {
   "cell_type": "markdown",
   "id": "2eada365-8423-4871-ac61-f24f9aac2e77",
   "metadata": {},
   "source": [
    "#### Question 2"
   ]
  },
  {
   "cell_type": "code",
   "execution_count": 7,
   "id": "7bd42f4a-43a3-46af-b6dc-50820faf1377",
   "metadata": {
    "tags": []
   },
   "outputs": [
    {
     "name": "stdout",
     "output_type": "stream",
     "text": [
      "Question 2:\n",
      "What is the course description for Marketing Analytics?\n"
     ]
    }
   ],
   "source": [
    "print(\"Question 2:\\n\" + question2_FLASH)"
   ]
  },
  {
   "cell_type": "code",
   "execution_count": 8,
   "id": "d0212943-fff7-42ec-9edb-0c64a4f676c7",
   "metadata": {
    "tags": []
   },
   "outputs": [
    {
     "name": "stdout",
     "output_type": "stream",
     "text": [
      "Ed's Response for Question 2:\n",
      "## Marketing Analytics Course Description\n",
      "\n",
      "This course provides a comprehensive introduction to the principles and practices of marketing analytics. You will learn how to leverage data to make informed marketing decisions and optimize marketing strategies. \n",
      "\n",
      "**Key topics covered include:**\n",
      "\n",
      "* **Understanding the role of analytics in marketing decision-making:**  Learn how data can inform marketing strategies and improve campaign effectiveness.\n",
      "* **Data collection and processing:** Explore various data sources and methods for gathering and preparing data for analysis.\n",
      "* **Statistical and machine learning techniques:** Apply analytical techniques to uncover patterns, trends, and insights from marketing data.\n",
      "* **Data visualization and communication:**  Develop skills in creating effective visualizations to communicate marketing insights to stakeholders.\n",
      "* **Developing data-driven marketing strategies:** Learn how to use data to improve business outcomes and achieve marketing goals.\n",
      "\n",
      "**This course will equip you with the skills to:**\n",
      "\n",
      "* **Make data-driven marketing decisions:**  Move beyond intuition and rely on data to guide your marketing choices.\n",
      "* **Improve marketing ROI:** Identify the most effective marketing channels and strategies to optimize resource allocation.\n",
      "* **Gain deeper customer insights:** Understand customer behavior, preferences, and trends to create more targeted marketing campaigns.\n",
      "* **Develop a competitive advantage:** Stay ahead of competitors by quickly adapting to market changes and leveraging data-driven insights.\n",
      "\n",
      "**Note:** While the course description mentions the use of software like R, Python, Tableau, and Google Analytics, the specific details of these tools and their applications will be covered in later weeks of the course.\n"
     ]
    }
   ],
   "source": [
    "print(\"Ed's Response for Question 2:\")\n",
    "print(response2_FLASH)"
   ]
  },
  {
   "cell_type": "code",
   "execution_count": 9,
   "id": "7d9e028f-10cc-42d9-891f-a92399a20ff1",
   "metadata": {
    "tags": []
   },
   "outputs": [
    {
     "name": "stdout",
     "output_type": "stream",
     "text": [
      "Reference Answer for Question 2:\n",
      "This course provides an introduction to the principles and practices of marketing analytics. Students will learn how to collect, analyze, and interpret data to make informed marketing decisions.  The course covers various analytical techniques and tools used to measure marketing performance, understand customer behavior, and optimize marketing strategies.\n"
     ]
    }
   ],
   "source": [
    "reference_answer_q2 = \"This course provides an introduction to the principles and practices of marketing analytics. Students will learn how to collect, analyze, and interpret data to make informed marketing decisions.  The course covers various analytical techniques and tools used to measure marketing performance, understand customer behavior, and optimize marketing strategies.\"\n",
    "print(\"Reference Answer for Question 2:\\n\" + reference_answer_q2) "
   ]
  },
  {
   "cell_type": "markdown",
   "id": "74dfaac3-4120-4264-a5fc-a6b4e6debcbd",
   "metadata": {},
   "source": [
    "#### Question 3"
   ]
  },
  {
   "cell_type": "code",
   "execution_count": 10,
   "id": "c3c7ab1c-fe60-41c9-a200-324e77a2b26b",
   "metadata": {
    "tags": []
   },
   "outputs": [
    {
     "name": "stdout",
     "output_type": "stream",
     "text": [
      "Question 3:\n",
      "What assignments are due on July 25th and what do I have to do for them?\n"
     ]
    }
   ],
   "source": [
    "print(\"Question 3:\\n\" + question3_FLASH)"
   ]
  },
  {
   "cell_type": "code",
   "execution_count": 11,
   "id": "27d5703f-a4c9-4594-b765-0bd2e1a400e5",
   "metadata": {
    "tags": []
   },
   "outputs": [
    {
     "name": "stdout",
     "output_type": "stream",
     "text": [
      "Ed's Response for Question 3:\n",
      "The only assignment due on July 25th is **Marketing Analytics Assignment 4**. \n",
      "\n",
      "\n",
      "## Marketing Analytics Assignment 4 Instructions:\n",
      "\n",
      "This assignment requires you to design and execute a comprehensive marketing analytics project. Here's a breakdown of the steps:\n",
      "\n",
      "**1. Choose a Marketing Problem:**\n",
      "\n",
      "* Select a marketing problem or question that interests you. This could be related to customer behavior, market trends, campaign effectiveness, etc.\n",
      "\n",
      "**2. Collect and Prepare Data:**\n",
      "\n",
      "* Gather relevant data from available sources (company databases, online datasets, surveys).\n",
      "* Ensure your data is clean, complete, and properly formatted.\n",
      "\n",
      "**3. Conduct Analyses:**\n",
      "\n",
      "* **Data Cleaning and Preparation:** Ensure the data is clean, complete, and formatted correctly.\n",
      "* **Exploratory Data Analysis (EDA):** Explore the data to understand its structure and identify key patterns.\n",
      "* **Hypothesis Testing:** Formulate and test hypotheses related to your marketing problem.\n",
      "* **Predictive Modeling:** Build models to predict future outcomes related to your marketing problem.\n",
      "* **Optimization Analysis:** Identify the optimal marketing strategies based on your analysis.\n",
      "\n",
      "**4. Create Visualizations:**\n",
      "\n",
      "* Use visualizations to support your analysis and findings.\n",
      "\n",
      "**5. Write a Comprehensive Report:**\n",
      "\n",
      "* **Introduction:** Briefly introduce the marketing problem and the purpose of your analysis.\n",
      "* **Data Collection and Preparation:** Describe the data sources, cleaning methods, and formatting.\n",
      "* **Exploratory Data Analysis:** Summarize your findings from the EDA.\n",
      "* **Hypothesis Testing:** Present your hypotheses, testing methods, and results.\n",
      "* **Predictive Modeling:** Explain the models you built, their performance, and key insights.\n",
      "* **Optimization Analysis:** Discuss your findings and recommendations for optimal marketing strategies.\n",
      "* **Strategic Recommendations:** Provide actionable recommendations based on your analysis.\n",
      "* **Conclusion:** Summarize your key findings and the implications for the marketing problem.\n",
      "\n",
      "**6. Prepare a Presentation:**\n",
      "\n",
      "* Summarize your project, key findings, and recommendations in a clear and concise presentation.\n",
      "* Use visuals to support your presentation.\n",
      "\n",
      "**7. Submit Your Work:**\n",
      "\n",
      "* Submit your report, presentation, and any supporting files (code, data, visualizations) through the course's online submission system.\n",
      "\n",
      "**Evaluation Criteria:**\n",
      "\n",
      "* Relevance and clarity of the chosen marketing problem.\n",
      "* Thoroughness and accuracy of data collection and preparation.\n",
      "* Depth and rigor of your analyses.\n",
      "* Effectiveness and clarity of your visualizations.\n",
      "* Insightfulness and feasibility of your strategic recommendations.\n",
      "* Professionalism and organization of your report and presentation.\n",
      "\n",
      "**Submission Details:**\n",
      "\n",
      "* **Due Date:** [Insert Due Date Here]\n",
      "* **Submission Format:** PDF report, presentation slides, and supporting files (e.g., code, data, visualizations).\n",
      "* **Submission Method:** Upload to the course's online submission system.\n"
     ]
    }
   ],
   "source": [
    "print(\"Ed's Response for Question 3:\")\n",
    "print(response3_FLASH)"
   ]
  },
  {
   "cell_type": "code",
   "execution_count": 12,
   "id": "0d6558d6-4ef4-4b4b-8280-f0f59016c52d",
   "metadata": {
    "tags": []
   },
   "outputs": [
    {
     "name": "stdout",
     "output_type": "stream",
     "text": [
      "Reference Answer for Question 3:\n",
      "\n",
      "On July 25th, you have Assignment 4 in Marketing Analytics due at 11:59. For this assignment you have to:\n",
      "\n",
      "1. Choose a marketing problem or question that interests you. This could be related to customer behavior, market trends, campaign effectiveness, etc.    \n",
      "\n",
      "2. Collect relevant data from available sources (e.g., company databases, online datasets, surveys). Ensure that your data is clean and properly formatted.  \n",
      "\n",
      "3. Use appropriate software tools (e.g., R, Python, Tableau) to conduct the following analyses:   \n",
      "• a. Data Cleaning and Preparation: Ensure the data is clean, complete, and formatted correctly.  \n",
      "• b. Exploratory Data Analysis (EDA): Explore the data to understand its structure and identify key patterns.  \n",
      "• c. Hypothesis Testing: Formulate and test hypotheses related to your marketing problem.    \n",
      "• d. Predictive Modeling: Build models to predict future outcomes related to your marketing problem.      \n",
      "• e. Optimization Analysis: Identify the optimal marketing strategies based on your analysis.   \n",
      "\n",
      "4. Create visualizations to support your analysis and findings.\n",
      "\n",
      "5. Write a comprehensive report that includes the following sections:   \n",
      "• a. Introduction \n",
      "• b. Data Collection and Preparation      \n",
      "• c. Exploratory Data Analysis      \n",
      "• d. Hypothesis Testing \n",
      "• e. Predictive Modeling      \n",
      "• f. Optimization Analysis    \n",
      "• g. Strategic Recommendations      \n",
      "• h. Conclusion   \n",
      "\n",
      "6. Prepare a presentation that summarizes your project, key findings, and recommendations. Your presentation should be clear, concise, and supported by visuals.    \n",
      "\n",
      "7. Submit your report, presentation, and any supporting files (e.g., code, data, visualizations) through the course's online submission system.\n",
      "\n"
     ]
    }
   ],
   "source": [
    "reference_answer_q3 = \"\"\"\n",
    "On July 25th, you have Assignment 4 in Marketing Analytics due at 11:59. For this assignment you have to:\n",
    "\n",
    "1. Choose a marketing problem or question that interests you. This could be related to customer behavior, market trends, campaign effectiveness, etc.    \n",
    "\n",
    "2. Collect relevant data from available sources (e.g., company databases, online datasets, surveys). Ensure that your data is clean and properly formatted.  \n",
    "\n",
    "3. Use appropriate software tools (e.g., R, Python, Tableau) to conduct the following analyses:   \n",
    "• a. Data Cleaning and Preparation: Ensure the data is clean, complete, and formatted correctly.  \n",
    "• b. Exploratory Data Analysis (EDA): Explore the data to understand its structure and identify key patterns.  \n",
    "• c. Hypothesis Testing: Formulate and test hypotheses related to your marketing problem.    \n",
    "• d. Predictive Modeling: Build models to predict future outcomes related to your marketing problem.      \n",
    "• e. Optimization Analysis: Identify the optimal marketing strategies based on your analysis.   \n",
    "\n",
    "4. Create visualizations to support your analysis and findings.\n",
    "\n",
    "5. Write a comprehensive report that includes the following sections:   \n",
    "• a. Introduction \n",
    "• b. Data Collection and Preparation      \n",
    "• c. Exploratory Data Analysis      \n",
    "• d. Hypothesis Testing \n",
    "• e. Predictive Modeling      \n",
    "• f. Optimization Analysis    \n",
    "• g. Strategic Recommendations      \n",
    "• h. Conclusion   \n",
    "\n",
    "6. Prepare a presentation that summarizes your project, key findings, and recommendations. Your presentation should be clear, concise, and supported by visuals.    \n",
    "\n",
    "7. Submit your report, presentation, and any supporting files (e.g., code, data, visualizations) through the course's online submission system.\n",
    "\"\"\"\n",
    "print(\"Reference Answer for Question 3:\\n\" + reference_answer_q3)"
   ]
  },
  {
   "cell_type": "markdown",
   "id": "c4f9f794-b3c7-4679-b5f7-f626c13c987a",
   "metadata": {},
   "source": [
    "## LLM"
   ]
  },
  {
   "cell_type": "code",
   "execution_count": 13,
   "id": "5fe19080-eaf6-47e0-a45c-3e6ab07ed721",
   "metadata": {
    "tags": []
   },
   "outputs": [],
   "source": [
    "evaluation_llm = ChatVertexAI(model_name=\"gemini-1.0-pro\")"
   ]
  },
  {
   "cell_type": "markdown",
   "id": "72e3c687-29e9-4509-8483-7d31ccff14ba",
   "metadata": {
    "tags": []
   },
   "source": [
    "## Criteria Evaluation with Prompt Template"
   ]
  },
  {
   "cell_type": "code",
   "execution_count": 14,
   "id": "54913721-85c1-4668-b98a-6962a351124c",
   "metadata": {
    "tags": []
   },
   "outputs": [],
   "source": [
    "fstring = \"\"\"Please evaluate the given response based on the criteria outlined below. \n",
    "\n",
    "The score should range from 0 to 1, where 0 means it \"Does Not Meet Criteria\" and 1 means it \"Meets Criteria.\" Scores in between should reflect the degree to which the response meets the criteria. A score closer to 1 indicates that the response meets more of the criteria, while a score closer to 0 indicates it meets fewer. \n",
    "\n",
    "Please refer to the below scale for further guidance:\n",
    "\n",
    "1. Correctness:\n",
    "0.0: Completely incorrect or does not use any information from the user's data.\n",
    "0.1 - 0.3: Mostly incorrect, with minimal correct information or logical hypotheses.\n",
    "0.4 - 0.6: Partially correct, with some accurate information from the user's data or logical hypotheses.\n",
    "0.7 - 0.9: Mostly correct, with minor inaccuracies or missing details.\n",
    "1.0: Completely accurate and includes relevant information from the user's data.\n",
    "\n",
    "2. Relevant:\n",
    "0.0: Irrelevant to the question and user's data.\n",
    "0.1 - 0.3: Minimally relevant, with mostly off-topic information.\n",
    "0.4 - 0.6: Somewhat relevant, but includes unnecessary or unrelated details.\n",
    "0.7 - 0.9: Mostly relevant, with minor deviations from the topic.\n",
    "1.0: Directly addresses the question and stays within the scope of the user's data.\n",
    "\n",
    "3. Conciseness:\n",
    "0.0: Overly verbose or rambling.\n",
    "0.1 - 0.3: Mostly verbose, with some unnecessary details.\n",
    "0.4 - 0.6: Somewhat concise, but includes some unnecessary information.\n",
    "0.7 - 0.9: Mostly concise, with minor verbosity.\n",
    "1.0: Succinct and to the point.\n",
    "\n",
    "4. Details:\n",
    "0.0: Lacks pertinent details and does not fully answer the question.\n",
    "0.1 - 0.3: Minimal details, with significant gaps in the answer.\n",
    "0.4 - 0.6: Includes some details, but does not fully cover all aspects of the question.\n",
    "0.7 - 0.9: Mostly detailed, with minor missing information.\n",
    "1.0: Comprehensive and fully answers the question.\n",
    "\n",
    "5. Helpfulness:\n",
    "0.0: Not helpful and does not provide needed information.\n",
    "0.1 - 0.3: Minimally helpful, with limited useful information.\n",
    "0.4 - 0.6: Somewhat helpful, but not fully satisfying the user's needs.\n",
    "0.7 - 0.9: Mostly helpful, with minor areas for improvement.\n",
    "1.0: Very helpful and provides all the needed information.\n",
    "\n",
    "6. Coherence:\n",
    "0.0: Incoherent and difficult to follow.\n",
    "0.1 - 0.3: Mostly incoherent, with significant clarity issues.\n",
    "0.4 - 0.6: Somewhat coherent, but has clarity and organization issues.\n",
    "0.7 - 0.9: Mostly coherent, with minor clarity issues.\n",
    "1.0: Clear, logical, and easy to follow.\n",
    "\n",
    "7. Conduct:\n",
    "0.0: Offensive, harmful, or unprofessional.\n",
    "0.1 - 0.3: Minimally professional, with some inappropriate tone or content.\n",
    "0.4 - 0.6: Somewhat professional, but with minor issues in tone or content.\n",
    "0.7 - 0.9: Mostly professional, with minor tone issues.\n",
    "1.0: Polite, professional, and non-offensive.\n",
    "\n",
    "8. Overall Score:\n",
    "0.0 - 1.0: Based on the average of the scores from the first seven criteria. This can be calculated as a simple average or weighted based on the importance of each criterion.\n",
    "\n",
    "The score should also be based on the grading rubric below. \n",
    "\n",
    "Grading Rubric: {criteria}\n",
    "\n",
    "1. Correctness:\n",
    " - Definition: The response is accurate and includes information from the user's data. \n",
    " - Examples: The answer may be totally incorrect or partially correct depending on how much information from the user's data has been included. If the response correctly paraphrases or directly uses details from the reference, it scores higher. The response may include a logical hypothesis, such as answering the question based on other information that it is aware of about the answer (e.g., course knowledge). This is acceptable, as long as the response seems logical and is not trying to make it seem as though the information is directly from the user's data. If the Agent does not know the answer, then the score should be \"N/A\"\n",
    "\n",
    "2. Relevant:\n",
    " - Definition: The response directly addresses the question and stays within the scope of the user's data.\n",
    " - Examples: Providing relevant links or additional information pertinent to the user's query is considered relevant. Responses outside of the user's data may be irrelevant. However, the response may include information relevant, such as external links to help the user with their assignments. These types of information are relevant if they are related to the question.  \n",
    " \n",
    "3. Conciseness: \n",
    " - Definition: The response is succinct, avoiding unnecessary details or rambling.\n",
    " - Examples: The Agent may be synthesizing large amounts of data from the user's provided data. A brief and to-the-point answer that is easy to understand scores higher.\n",
    " \n",
    "4. Details:\n",
    " - Definition: The response includes pertinant details that fully answer the question. The most important details are those that answer the question in full. \n",
    " - Examples: Comprehensive answers that cover all aspects of the question will score higher.\n",
    " \n",
    "5. Helpfulness:\n",
    " - Definition: The response is helpful to the user in that it provides them with the information that they need and is encouraging.\n",
    " - Examples: Providing responses that answer the question is helpful. Additional resources, if applicable, when relevant can be helpful, too, but may not always be present in the answer.  \n",
    " \n",
    "6. Coherence:\n",
    " - Definition: The response has a logical structure, makes sense and is and easy to follow.  \n",
    " - Examples: Responses that are clear and organized score higher. \n",
    " \n",
    "7. Conduct:\n",
    " - Definition: The response is polite, non-offensive, and maintains a professional tone.\n",
    " - Examples: The Agent's response should NOT include any harmful, malicious, misogyny, criminal, or insensitive information, as that will reduce the score. \n",
    "\n",
    "8. Overall Score: \n",
    " - Definition: Based on the performance of the first 7 criterias, provide an overall score of the response. \n",
    " - Examples: The Agent's Overall Score should be high if they scored high in most, if not all, the categories. \n",
    "\n",
    "One key piece of information is that the Agent is supposed to be a helpfu AI assistant that supports university students by answering questions based on their data (i.e., user data). This data may include course materials or information from their calendars.\n",
    "\n",
    "Expected Response: {reference}\n",
    "1. The reference will include information from the user's data and can be used to compare with the Agent's response. \n",
    "2. The answer should perform well against the categories listed in the Grading Rubric. \n",
    "3. One example of a good response includes when a user asks about what they have to do for an assignment, the response should include details about the assignment that directly comes from their user data.The Agent's response may also include relevant links for the assignment. So, if the assignment is about conducting hypothesis testing, the links should concern that topic.  \n",
    "4. Don't make assumptions about what is or is not the accurate answer. The referance answer is the \"source of truth.\" \n",
    "\n",
    "DATA:\n",
    "---------\n",
    "Question: {input}\n",
    "Response: {output}\n",
    "---------\n",
    "\n",
    "Write out your explanation for each criterion in detail, with examples if needed, then respond with the score on a new line for each other categories listed under the Grading Rubric. For the Scores section, it should follow the below format:\n",
    "1. Correctness: (score)\n",
    "2. Relevant: (score\n",
    "3. Conciseness: (score)\n",
    "4. Details: (score)\n",
    "5. Helpfulness: (score)\n",
    "6. Coherence: (score)\n",
    "7. Conduct: (score)\n",
    "8. Overall Score: (score)\n",
    "\"\"\"\n",
    "\n",
    "prompt = PromptTemplate.from_template(fstring)\n",
    "\n",
    "evaluator = load_evaluator(\"labeled_criteria\", criteria=\"correctness\", llm=evaluation_llm, prompt=prompt)"
   ]
  },
  {
   "cell_type": "code",
   "execution_count": 15,
   "id": "bddf0b33-b1a5-4501-816f-b980ff742ce6",
   "metadata": {
    "tags": []
   },
   "outputs": [
    {
     "name": "stdout",
     "output_type": "stream",
     "text": [
      "Reasoning: ## Evaluation of Response:\n",
      "\n",
      "**1. Correctness:**\n",
      "\n",
      "* **Score:** 1.0 \n",
      "* **Explanation:** The response accurately reflects information from the user's data. It correctly identifies the event due on July 21st as \"Statistical Analysis Quiz 2.\" This aligns perfectly with the reference information, demonstrating complete correctness. \n",
      "\n",
      "**2. Relevant:**\n",
      "\n",
      "* **Score:** 1.0\n",
      "* **Explanation:** The response directly addresses the user's question about anything due on July 21st. It focuses solely on the relevant event, \"Statistical Analysis Quiz 2,\" and avoids introducing unrelated information. \n",
      "\n",
      "**3. Conciseness:**\n",
      "\n",
      "* **Score:** 0.8\n",
      "* **Explanation:** While the response is concise, it could be slightly more succinct. Including the due time (11:59) would provide even more clarity and conciseness. \n",
      "\n",
      "**4. Details:**\n",
      "\n",
      "* **Score:** 0.8\n",
      "* **Explanation:** The response provides sufficient details by identifying the specific event (\"Statistical Analysis Quiz 2\") due on the specified date. However, including the due time (11:59) would offer more comprehensive information. \n",
      "\n",
      "**5. Helpfulness:**\n",
      "\n",
      "* **Score:** 0.9\n",
      "* **Explanation:** The response is helpful by directly answering the user's question and providing relevant information. However, incorporating the due time would further enhance its helpfulness. \n",
      "\n",
      "**6. Coherence:**\n",
      "\n",
      "* **Score:** 1.0\n",
      "* **Explanation:** The response is clear, logical, and easy to follow. It presents the information in a structured and coherent manner. \n",
      "\n",
      "**7. Conduct:**\n",
      "\n",
      "* **Score:** 1.0\n",
      "* **Explanation:** The response maintains a polite, professional, and non-offensive tone. It avoids any harmful or insensitive language. \n",
      "\n",
      "**8. Overall Score:**\n",
      "\n",
      "* **Score:** 0.94\n",
      "* **Explanation:** The response demonstrates a high level of quality, meeting all the criteria effectively. The minor deductions in \"Conciseness\" and \"Details\" are primarily due to the omission of the due time.\n"
     ]
    }
   ],
   "source": [
    "# Question 1\n",
    "eval_result = evaluator.evaluate_strings(\n",
    "    input=question1_FLASH,\n",
    "    reference=reference_answer_q1,\n",
    "    prediction=response1_FLASH\n",
    ")\n",
    "\n",
    "print(\"Reasoning:\", eval_result[\"reasoning\"])"
   ]
  },
  {
   "cell_type": "code",
   "execution_count": 16,
   "id": "d1e7cea0-3033-4626-94fa-9c03f3c28f78",
   "metadata": {
    "tags": []
   },
   "outputs": [
    {
     "name": "stdout",
     "output_type": "stream",
     "text": [
      "Reasoning: ## Evaluation of the Response:\n",
      "\n",
      "**1. Correctness:**\n",
      "\n",
      "* **Score:** 1.0\n",
      "\n",
      "The response accurately describes the course description of Marketing Analytics and includes relevant information from the provided user data. It aligns with the key learning areas and goals outlined in the reference.\n",
      "\n",
      "**2. Relevance:**\n",
      "\n",
      "* **Score:** 1.0\n",
      "\n",
      "The response directly addresses the question about the course description and stays within the scope of the user's data. It avoids irrelevant information and focuses on the specific topic.\n",
      "\n",
      "**3. Conciseness:**\n",
      "\n",
      "* **Score:** 0.9\n",
      "\n",
      "The response is concise and provides a clear overview of the course without unnecessary details. It is well-structured and easy to understand. While the information is concise, it could be even more streamlined by slightly reducing the length of the bullet points.\n",
      "\n",
      "**4. Details:**\n",
      "\n",
      "* **Score:** 0.9\n",
      "\n",
      "The response includes pertinent details about the course, covering key topics, learning outcomes, and software tools used. It comprehensively answers the question and provides a good understanding of the course content. However,  it could be slightly improved by specifying the course's level (e.g., introductory, advanced) and mentioning the types of marketing channels and strategies explored.\n",
      "\n",
      "**5. Helpfulness:**\n",
      "\n",
      "* **Score:** 1.0\n",
      "\n",
      "The response is very helpful to the user by providing a clear and informative description of the course. It addresses their need for information and encourages them to learn more about the subject.\n",
      "\n",
      "**6. Coherence:**\n",
      "\n",
      "* **Score:** 1.0\n",
      "\n",
      "The response is well-organized, logical, and easy to follow. It uses a clear structure and transitions smoothly between different sections.\n",
      "\n",
      "**7. Conduct:**\n",
      "\n",
      "* **Score:** 1.0\n",
      "\n",
      "The response is polite, professional, and maintains a neutral tone. It avoids any offensive or discriminatory language.\n",
      "\n",
      "**8. Overall Score:**\n",
      "\n",
      "* **Score:** 0.97\n",
      "\n",
      "The response demonstrates high quality in all aspects, providing an accurate, relevant, concise, detailed, helpful, coherent, and professional answer to the user's question. \n",
      "\n",
      "\n",
      "**Scores:**\n",
      "\n",
      "1. Correctness: 1.0\n",
      "2. Relevant: 1.0\n",
      "3. Conciseness: 0.9\n",
      "4. Details: 0.9\n",
      "5. Helpfulness: 1.0\n",
      "6. Coherence: 1.0\n",
      "7. Conduct: 1.0\n",
      "8. Overall Score: 0.97\n"
     ]
    }
   ],
   "source": [
    "# Question 2\n",
    "eval_result = evaluator.evaluate_strings(\n",
    "    input=question2_FLASH,\n",
    "    reference=reference_answer_q2,\n",
    "    prediction=response2_FLASH\n",
    ")\n",
    "\n",
    "print(\"Reasoning:\", eval_result[\"reasoning\"])"
   ]
  },
  {
   "cell_type": "code",
   "execution_count": 17,
   "id": "7cd57dc9-5f1f-499e-8bca-fc41e336dca4",
   "metadata": {
    "tags": []
   },
   "outputs": [
    {
     "name": "stdout",
     "output_type": "stream",
     "text": [
      "Reasoning: ## Evaluation of Response:\n",
      "\n",
      "**1. Correctness:**\n",
      "\n",
      "* The reference text describes Assignment 4 due on July 25th.\n",
      "* The response accurately reflects the information presented in the reference, including the due date and task details.\n",
      "* The response does not contain any factual errors or contradictory information.\n",
      "\n",
      "**Score: 1.0**\n",
      "\n",
      "**2. Relevant:**\n",
      "\n",
      "* The response directly addresses the user's question about assignments due on July 25th.\n",
      "* It provides a clear breakdown of the requirements for Marketing Analytics Assignment 4.\n",
      "* The information presented is directly related to the user's data and the specific assignment.\n",
      "\n",
      "**Score: 1.0**\n",
      "\n",
      "**3. Conciseness:**\n",
      "\n",
      "* The response avoids unnecessary details and clearly outlines the essential information about Assignment 4.\n",
      "* The explanation of each step is concise, yet informative.\n",
      "* The response does not include any irrelevant or rambling information.\n",
      "\n",
      "**Score: 1.0**\n",
      "\n",
      "**4. Details:**\n",
      "\n",
      "* The response provides comprehensive details about the requirements for Assignment 4.\n",
      "* It covers all aspects of the assignment, including choosing a marketing problem, collecting data, conducting analyses, creating visualizations, writing a report, and preparing a presentation.\n",
      "* The instructions are clear and easy to follow.\n",
      "\n",
      "**Score: 1.0**\n",
      "\n",
      "**5. Helpfulness:**\n",
      "\n",
      "* The response provides the user with all the necessary information to complete Assignment 4.\n",
      "* It outlines the steps involved in the assignment and offers guidance on each aspect.\n",
      "* The response is encouraging and supportive, helping the user confidently approach the assignment.\n",
      "\n",
      "**Score: 1.0**\n",
      "\n",
      "**6. Coherence:**\n",
      "\n",
      "* The response is well-organized and structured, following a logical flow.\n",
      "* The information is presented in a clear and easy-to-understand manner.\n",
      "* The response has a clear and consistent tone.\n",
      "\n",
      "**Score: 1.0**\n",
      "\n",
      "**7. Conduct:**\n",
      "\n",
      "* The response is polite, professional, and non-offensive.\n",
      "* It uses appropriate language and avoids any discriminatory or harmful content.\n",
      "\n",
      "**Score: 1.0**\n",
      "\n",
      "**8. Overall Score:**\n",
      "\n",
      "**1.0**\n",
      "\n",
      "The response effectively meets all the criteria outlined in the rubric. It is accurate, relevant, concise, detailed, helpful, coherent, and professional. It provides the user with a clear understanding of the requirements for Assignment 4 and offers valuable guidance on completing the assignment successfully.\n"
     ]
    }
   ],
   "source": [
    "# Question 3\n",
    "eval_result = evaluator.evaluate_strings(\n",
    "    input=question3_FLASH,\n",
    "    reference=reference_answer_q3,\n",
    "    prediction=response3_FLASH\n",
    ")\n",
    "\n",
    "print(\"Reasoning:\", eval_result[\"reasoning\"])"
   ]
  }
 ],
 "metadata": {
  "environment": {
   "kernel": "python3",
   "name": "tf2-cpu.2-11.m119",
   "type": "gcloud",
   "uri": "us-docker.pkg.dev/deeplearning-platform-release/gcr.io/tf2-cpu.2-11:m119"
  },
  "kernelspec": {
   "display_name": "Python 3",
   "language": "python",
   "name": "python3"
  },
  "language_info": {
   "codemirror_mode": {
    "name": "ipython",
    "version": 3
   },
   "file_extension": ".py",
   "mimetype": "text/x-python",
   "name": "python",
   "nbconvert_exporter": "python",
   "pygments_lexer": "ipython3",
   "version": "3.10.14"
  }
 },
 "nbformat": 4,
 "nbformat_minor": 5
}
