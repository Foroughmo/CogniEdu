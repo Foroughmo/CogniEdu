{
 "cells": [
  {
   "cell_type": "markdown",
   "id": "73c741cb-ad86-430e-9b2a-26bd8fb94c63",
   "metadata": {},
   "source": [
    "# LLM Evaluation - ROUGE"
   ]
  },
  {
   "cell_type": "markdown",
   "id": "583a461a-42fc-48c8-a8cc-3cd8a673f0de",
   "metadata": {},
   "source": [
    "## Libraries"
   ]
  },
  {
   "cell_type": "code",
   "execution_count": 1,
   "id": "309a3c00-0df7-4f85-99e7-a810432384c1",
   "metadata": {
    "tags": []
   },
   "outputs": [],
   "source": [
    "import nbformat\n",
    "from nbformat import NO_CONVERT\n",
    "import io\n",
    "import os\n",
    "import sys\n",
    "\n",
    "# Rouge\n",
    "from rouge_score import rouge_scorer\n",
    "import pandas as pd"
   ]
  },
  {
   "cell_type": "markdown",
   "id": "37d04541-63eb-445a-ad0d-85dc88a250a2",
   "metadata": {},
   "source": [
    "## Import Notebook Content"
   ]
  },
  {
   "cell_type": "code",
   "execution_count": 2,
   "id": "61233882-9877-4ca1-97e3-9956e4427948",
   "metadata": {
    "tags": []
   },
   "outputs": [],
   "source": [
    "def run_notebook(path):\n",
    "    with open(path) as f:\n",
    "        notebook_content = nbformat.read(f, as_version=NO_CONVERT)\n",
    "    code_cells = [cell['source'] for cell in notebook_content.cells if cell.cell_type == 'code']\n",
    "    code = '\\n'.join(code_cells)\n",
    "    \n",
    "    # Omit Output\n",
    "    old_stdout = sys.stdout\n",
    "    old_stderr = sys.stderr\n",
    "    sys.stdout = io.StringIO()\n",
    "    sys.stderr = io.StringIO()\n",
    "    \n",
    "    try:\n",
    "        exec(code, globals())\n",
    "    finally:\n",
    "        sys.stdout = old_stdout\n",
    "        sys.stderr = old_stderr"
   ]
  },
  {
   "cell_type": "markdown",
   "id": "c4f9f794-b3c7-4679-b5f7-f626c13c987a",
   "metadata": {},
   "source": [
    "## ROUGE Scorer"
   ]
  },
  {
   "cell_type": "code",
   "execution_count": 3,
   "id": "5fe19080-eaf6-47e0-a45c-3e6ab07ed721",
   "metadata": {
    "tags": []
   },
   "outputs": [],
   "source": [
    "scorer = rouge_scorer.RougeScorer(\n",
    "    ['rouge1', 'rouge2', 'rougeL'], \n",
    "    use_stemmer=True,\n",
    ")"
   ]
  },
  {
   "cell_type": "markdown",
   "id": "fe296f85-a9fb-41d6-b3ee-1511a6453349",
   "metadata": {},
   "source": [
    "## Gemini 1.5 Flash"
   ]
  },
  {
   "cell_type": "code",
   "execution_count": 4,
   "id": "682589ac-4ce5-4c0b-87e5-be9d8746f6f5",
   "metadata": {
    "tags": []
   },
   "outputs": [
    {
     "name": "stdin",
     "output_type": "stream",
     "text": [
      "Enter new database host (or press Enter to keep current):  \n",
      "Enter new database user (or press Enter to keep current):  \n",
      "Enter new database password (input hidden, or press Enter to keep current):  ········\n",
      "Enter new database name (or press Enter to keep current):  \n"
     ]
    },
    {
     "name": "stderr",
     "output_type": "stream",
     "text": [
      "WARNING:pypdf._reader:Ignoring wrong pointing object 6 0 (offset 0)\n",
      "WARNING:pypdf._reader:Ignoring wrong pointing object 8 0 (offset 0)\n",
      "WARNING:pypdf._reader:Ignoring wrong pointing object 6 0 (offset 0)\n",
      "WARNING:pypdf._reader:Ignoring wrong pointing object 8 0 (offset 0)\n",
      "WARNING:pypdf._reader:Ignoring wrong pointing object 6 0 (offset 0)\n",
      "WARNING:pypdf._reader:Ignoring wrong pointing object 8 0 (offset 0)\n",
      "WARNING:pypdf._reader:Ignoring wrong pointing object 6 0 (offset 0)\n",
      "WARNING:pypdf._reader:Ignoring wrong pointing object 8 0 (offset 0)\n",
      "WARNING:pypdf._reader:Ignoring wrong pointing object 6 0 (offset 0)\n",
      "WARNING:pypdf._reader:Ignoring wrong pointing object 8 0 (offset 0)\n",
      "WARNING:pypdf._reader:Ignoring wrong pointing object 6 0 (offset 0)\n",
      "WARNING:pypdf._reader:Ignoring wrong pointing object 8 0 (offset 0)\n",
      "WARNING:pypdf._reader:Ignoring wrong pointing object 6 0 (offset 0)\n",
      "WARNING:pypdf._reader:Ignoring wrong pointing object 8 0 (offset 0)\n",
      "WARNING:pypdf._reader:Ignoring wrong pointing object 6 0 (offset 0)\n",
      "WARNING:pypdf._reader:Ignoring wrong pointing object 8 0 (offset 0)\n",
      "WARNING:pypdf._reader:Ignoring wrong pointing object 10 0 (offset 0)\n",
      "WARNING:pypdf._reader:Ignoring wrong pointing object 6 0 (offset 0)\n",
      "WARNING:pypdf._reader:Ignoring wrong pointing object 8 0 (offset 0)\n",
      "WARNING:pypdf._reader:Ignoring wrong pointing object 10 0 (offset 0)\n",
      "WARNING:pypdf._reader:Ignoring wrong pointing object 6 0 (offset 0)\n",
      "WARNING:pypdf._reader:Ignoring wrong pointing object 8 0 (offset 0)\n",
      "WARNING:pypdf._reader:Ignoring wrong pointing object 10 0 (offset 0)\n",
      "WARNING:pypdf._reader:Ignoring wrong pointing object 6 0 (offset 0)\n",
      "WARNING:pypdf._reader:Ignoring wrong pointing object 8 0 (offset 0)\n",
      "WARNING:pypdf._reader:Ignoring wrong pointing object 10 0 (offset 0)\n",
      "WARNING:pypdf._reader:Ignoring wrong pointing object 6 0 (offset 0)\n",
      "WARNING:pypdf._reader:Ignoring wrong pointing object 8 0 (offset 0)\n",
      "WARNING:pypdf._reader:Ignoring wrong pointing object 10 0 (offset 0)\n",
      "WARNING:pypdf._reader:Ignoring wrong pointing object 6 0 (offset 0)\n",
      "WARNING:pypdf._reader:Ignoring wrong pointing object 8 0 (offset 0)\n",
      "WARNING:pypdf._reader:Ignoring wrong pointing object 10 0 (offset 0)\n",
      "WARNING:pypdf._reader:Ignoring wrong pointing object 6 0 (offset 0)\n",
      "WARNING:pypdf._reader:Ignoring wrong pointing object 8 0 (offset 0)\n",
      "WARNING:pypdf._reader:Ignoring wrong pointing object 10 0 (offset 0)\n",
      "WARNING:pypdf._reader:Ignoring wrong pointing object 6 0 (offset 0)\n",
      "WARNING:pypdf._reader:Ignoring wrong pointing object 8 0 (offset 0)\n",
      "WARNING:pypdf._reader:Ignoring wrong pointing object 10 0 (offset 0)\n",
      "WARNING:pypdf._reader:Ignoring wrong pointing object 6 0 (offset 0)\n",
      "WARNING:pypdf._reader:Ignoring wrong pointing object 8 0 (offset 0)\n",
      "WARNING:pypdf._reader:Ignoring wrong pointing object 10 0 (offset 0)\n",
      "WARNING:pypdf._reader:Ignoring wrong pointing object 6 0 (offset 0)\n",
      "WARNING:pypdf._reader:Ignoring wrong pointing object 8 0 (offset 0)\n",
      "WARNING:pypdf._reader:Ignoring wrong pointing object 10 0 (offset 0)\n",
      "WARNING:pypdf._reader:Ignoring wrong pointing object 6 0 (offset 0)\n",
      "WARNING:pypdf._reader:Ignoring wrong pointing object 8 0 (offset 0)\n",
      "WARNING:pypdf._reader:Ignoring wrong pointing object 10 0 (offset 0)\n",
      "WARNING:pypdf._reader:Ignoring wrong pointing object 6 0 (offset 0)\n",
      "WARNING:pypdf._reader:Ignoring wrong pointing object 8 0 (offset 0)\n",
      "WARNING:pypdf._reader:Ignoring wrong pointing object 10 0 (offset 0)\n",
      "WARNING:pypdf._reader:Ignoring wrong pointing object 6 0 (offset 0)\n",
      "WARNING:pypdf._reader:Ignoring wrong pointing object 8 0 (offset 0)\n",
      "WARNING:pypdf._reader:Ignoring wrong pointing object 10 0 (offset 0)\n",
      "WARNING:pypdf._reader:Ignoring wrong pointing object 6 0 (offset 0)\n",
      "WARNING:pypdf._reader:Ignoring wrong pointing object 8 0 (offset 0)\n",
      "WARNING:pypdf._reader:Ignoring wrong pointing object 10 0 (offset 0)\n",
      "WARNING:pypdf._reader:Ignoring wrong pointing object 6 0 (offset 0)\n",
      "WARNING:pypdf._reader:Ignoring wrong pointing object 8 0 (offset 0)\n",
      "WARNING:pypdf._reader:Ignoring wrong pointing object 10 0 (offset 0)\n",
      "WARNING:pypdf._reader:Ignoring wrong pointing object 6 0 (offset 0)\n",
      "WARNING:pypdf._reader:Ignoring wrong pointing object 8 0 (offset 0)\n",
      "WARNING:pypdf._reader:Ignoring wrong pointing object 10 0 (offset 0)\n",
      "WARNING:pypdf._reader:Ignoring wrong pointing object 6 0 (offset 0)\n",
      "WARNING:pypdf._reader:Ignoring wrong pointing object 8 0 (offset 0)\n",
      "WARNING:pypdf._reader:Ignoring wrong pointing object 10 0 (offset 0)\n",
      "WARNING:pypdf._reader:Ignoring wrong pointing object 6 0 (offset 0)\n",
      "WARNING:pypdf._reader:Ignoring wrong pointing object 8 0 (offset 0)\n",
      "WARNING:pypdf._reader:Ignoring wrong pointing object 10 0 (offset 0)\n"
     ]
    }
   ],
   "source": [
    "# Gemini 1.5 Flash\n",
    "notebook_path = '/home/jupyter/2. Capstone 2/2. New Features for Testing/Model Evaluation/CC_Final_Agent_Flash.ipynb'\n",
    "run_notebook(notebook_path)"
   ]
  },
  {
   "cell_type": "markdown",
   "id": "7a293f4d-9868-461f-b714-92d893770dd1",
   "metadata": {},
   "source": [
    "#### Question 1"
   ]
  },
  {
   "cell_type": "code",
   "execution_count": 5,
   "id": "895b0c90-34ad-40f6-a687-c2c1791df76b",
   "metadata": {
    "tags": []
   },
   "outputs": [
    {
     "name": "stdout",
     "output_type": "stream",
     "text": [
      "Question 1:\n",
      "Do I have anything due on July 21st?\n"
     ]
    }
   ],
   "source": [
    "print(\"Question 1:\\n\" + question1_FLASH)"
   ]
  },
  {
   "cell_type": "code",
   "execution_count": 6,
   "id": "90118863-53de-4565-a057-069b93315da4",
   "metadata": {
    "tags": []
   },
   "outputs": [
    {
     "name": "stdout",
     "output_type": "stream",
     "text": [
      "Ed's Response for Question 1:\n",
      "On July 21st, the student has a **Statistical Analysis Quiz 2** due at 23:59:00.\n"
     ]
    }
   ],
   "source": [
    "print(\"Ed's Response for Question 1:\")\n",
    "print(response1_FLASH)"
   ]
  },
  {
   "cell_type": "code",
   "execution_count": 7,
   "id": "373410eb-fc03-4c47-af44-ed4f167a462f",
   "metadata": {
    "tags": []
   },
   "outputs": [
    {
     "name": "stdout",
     "output_type": "stream",
     "text": [
      "Reference Answer for Question 1:\n",
      "On July 21st, you have Quiz 2 in Statistical Analysis due at 11:59.\n"
     ]
    }
   ],
   "source": [
    "reference_answer_q1 = \"On July 21st, you have Quiz 2 in Statistical Analysis due at 11:59.\"\n",
    "print(\"Reference Answer for Question 1:\\n\" + reference_answer_q1) "
   ]
  },
  {
   "cell_type": "code",
   "execution_count": 8,
   "id": "d984dabc-1d50-4a0f-86d9-0b64e9b204cb",
   "metadata": {
    "tags": []
   },
   "outputs": [
    {
     "data": {
      "text/html": [
       "<div>\n",
       "<style scoped>\n",
       "    .dataframe tbody tr th:only-of-type {\n",
       "        vertical-align: middle;\n",
       "    }\n",
       "\n",
       "    .dataframe tbody tr th {\n",
       "        vertical-align: top;\n",
       "    }\n",
       "\n",
       "    .dataframe thead th {\n",
       "        text-align: right;\n",
       "    }\n",
       "</style>\n",
       "<table border=\"1\" class=\"dataframe\">\n",
       "  <thead>\n",
       "    <tr style=\"text-align: right;\">\n",
       "      <th></th>\n",
       "      <th>precision</th>\n",
       "      <th>recall</th>\n",
       "      <th>fmeasure</th>\n",
       "    </tr>\n",
       "  </thead>\n",
       "  <tbody>\n",
       "    <tr>\n",
       "      <th>rouge1</th>\n",
       "      <td>0.714286</td>\n",
       "      <td>0.625000</td>\n",
       "      <td>0.666667</td>\n",
       "    </tr>\n",
       "    <tr>\n",
       "      <th>rouge2</th>\n",
       "      <td>0.384615</td>\n",
       "      <td>0.333333</td>\n",
       "      <td>0.357143</td>\n",
       "    </tr>\n",
       "    <tr>\n",
       "      <th>rougeL</th>\n",
       "      <td>0.571429</td>\n",
       "      <td>0.500000</td>\n",
       "      <td>0.533333</td>\n",
       "    </tr>\n",
       "  </tbody>\n",
       "</table>\n",
       "</div>"
      ],
      "text/plain": [
       "        precision    recall  fmeasure\n",
       "rouge1   0.714286  0.625000  0.666667\n",
       "rouge2   0.384615  0.333333  0.357143\n",
       "rougeL   0.571429  0.500000  0.533333"
      ]
     },
     "execution_count": 8,
     "metadata": {},
     "output_type": "execute_result"
    }
   ],
   "source": [
    "scores = scorer.score(response1_FLASH, reference_answer_q1)\n",
    "pd.DataFrame.from_dict(scores, orient=\"index\")"
   ]
  },
  {
   "cell_type": "markdown",
   "id": "51c697e8-80d0-40e4-bc52-f2664ea04e2b",
   "metadata": {},
   "source": [
    "#### Question 2"
   ]
  },
  {
   "cell_type": "code",
   "execution_count": 9,
   "id": "ad6ac5dd-b451-4529-b833-31f1e162ebce",
   "metadata": {
    "tags": []
   },
   "outputs": [
    {
     "name": "stdout",
     "output_type": "stream",
     "text": [
      "Question 2:\n",
      "What is the course description for Marketing Analytics?\n"
     ]
    }
   ],
   "source": [
    "print(\"Question 2:\\n\" + question2_FLASH)"
   ]
  },
  {
   "cell_type": "code",
   "execution_count": 10,
   "id": "df195f5c-e847-47eb-9fc1-1fc168a4e64b",
   "metadata": {
    "tags": []
   },
   "outputs": [
    {
     "name": "stdout",
     "output_type": "stream",
     "text": [
      "Ed's Response for Question 2:\n",
      "## Marketing Analytics Syllabus\n",
      "\n",
      "This syllabus outlines the course \"Marketing Analytics\" (MKTG 450), taught by [Instructor Name]. \n",
      "\n",
      "**Course Description:**\n",
      "\n",
      "This course introduces the principles and practices of marketing analytics. Students will learn how to collect, analyze, and interpret data to make informed marketing decisions. The course covers various analytical techniques and tools used to measure marketing performance, understand customer behavior, and optimize marketing strategies.\n",
      "\n",
      "**Learning Objectives:**\n",
      "\n",
      "By the end of this course, students will be able to:\n",
      "\n",
      "* Understand the role of analytics in marketing decision-making.\n",
      "* Collect and process marketing data from various sources.\n",
      "* Apply statistical and machine learning techniques to analyze marketing data.\n",
      "* Use data visualization tools to communicate marketing insights effectively.\n",
      "* Develop data-driven marketing strategies to improve business outcomes.\n",
      "\n",
      "**Required Materials:**\n",
      "\n",
      "* Textbook: [Textbook Title, Author, Edition]\n",
      "* Software: R, Python, Tableau, Google Analytics\n",
      "\n",
      "**Course Schedule:**\n",
      "\n",
      "The course is structured over 14 weeks, covering topics such as:\n",
      "\n",
      "* **Introduction to Marketing Analytics:** Importance of marketing analytics, key components of the marketing analytics framework.\n",
      "* **Data Collection and Data Quality:** Sources of marketing data, data collection methods, ensuring data quality.\n",
      "* **Data Cleaning and Exploratory Data Analysis (EDA):** Techniques for data cleaning, exploratory data analysis, descriptive statistics.\n",
      "* **Customer Segmentation:** Methods for customer segmentation, market basket analysis, RFM analysis.\n",
      "* **Predictive Modeling:** Introduction to predictive modeling, regression analysis, time series analysis.\n",
      "* **Customer Lifetime Value (CLV):** Calculating and interpreting CLV, applications of CLV in marketing.\n",
      "* **Marketing Mix Modeling:** Analyzing the impact of marketing tactics, optimizing the marketing mix.\n",
      "* **Digital Marketing Analytics:** Web analytics, social media analytics, measuring digital marketing performance.\n",
      "* **Advanced Analytics Techniques:** Machine learning applications in marketing, sentiment analysis, A/B testing.\n",
      "* **Data Visualization and Reporting:** Creating effective visualizations, reporting tools, storytelling with data.\n",
      "* **Ethics in Marketing Analytics:** Ethical considerations in data collection and analysis, privacy issues.\n",
      "* **Case Studies and Applications:** Real-world applications of marketing analytics, case study discussions.\n",
      "* **Final Project Presentations:** Students present their final marketing analytics projects.\n",
      "* **Review and Future Trends:** Review of key concepts, discussion on future trends in marketing analytics.\n",
      "\n",
      "**Grading and Evaluation:**\n",
      "\n",
      "Your performance in this course will be evaluated based on the following components:\n",
      "\n",
      "* Assignments (40%)\n",
      "* Quizzes (20%)\n",
      "* Final Project (30%)\n",
      "* Participation (10%)\n",
      "\n",
      "**Policies:**\n",
      "\n",
      "* **Attendance:** Regular attendance is expected. Please notify the instructor in advance if you need to miss a class.\n",
      "* **Late Work:** Late submissions will incur a penalty unless prior arrangements are made with the instructor.\n",
      "* **Academic Integrity:** Students are expected to adhere to the university's academic integrity policy. Plagiarism and cheating will not be tolerated.\n"
     ]
    }
   ],
   "source": [
    "print(\"Ed's Response for Question 2:\")\n",
    "print(response2_FLASH)"
   ]
  },
  {
   "cell_type": "code",
   "execution_count": 11,
   "id": "ad59baf9-adcd-4304-b195-9ce1745548ee",
   "metadata": {
    "tags": []
   },
   "outputs": [
    {
     "name": "stdout",
     "output_type": "stream",
     "text": [
      "Reference Answer for Question 2:\n",
      "This course provides an introduction to the principles and practices of marketing analytics. Students will learn how to collect, analyze, and interpret data to make informed marketing decisions.  The course covers various analytical techniques and tools used to measure marketing performance, understand customer behavior, and optimize marketing strategies.\n"
     ]
    }
   ],
   "source": [
    "reference_answer_q2 = \"This course provides an introduction to the principles and practices of marketing analytics. Students will learn how to collect, analyze, and interpret data to make informed marketing decisions.  The course covers various analytical techniques and tools used to measure marketing performance, understand customer behavior, and optimize marketing strategies.\"\n",
    "print(\"Reference Answer for Question 2:\\n\" + reference_answer_q2) "
   ]
  },
  {
   "cell_type": "code",
   "execution_count": 12,
   "id": "f3ac2dc4-1b4b-4e73-aa51-5f344264c24d",
   "metadata": {
    "tags": []
   },
   "outputs": [
    {
     "data": {
      "text/html": [
       "<div>\n",
       "<style scoped>\n",
       "    .dataframe tbody tr th:only-of-type {\n",
       "        vertical-align: middle;\n",
       "    }\n",
       "\n",
       "    .dataframe tbody tr th {\n",
       "        vertical-align: top;\n",
       "    }\n",
       "\n",
       "    .dataframe thead th {\n",
       "        text-align: right;\n",
       "    }\n",
       "</style>\n",
       "<table border=\"1\" class=\"dataframe\">\n",
       "  <thead>\n",
       "    <tr style=\"text-align: right;\">\n",
       "      <th></th>\n",
       "      <th>precision</th>\n",
       "      <th>recall</th>\n",
       "      <th>fmeasure</th>\n",
       "    </tr>\n",
       "  </thead>\n",
       "  <tbody>\n",
       "    <tr>\n",
       "      <th>rouge1</th>\n",
       "      <td>0.958333</td>\n",
       "      <td>0.112195</td>\n",
       "      <td>0.200873</td>\n",
       "    </tr>\n",
       "    <tr>\n",
       "      <th>rouge2</th>\n",
       "      <td>0.936170</td>\n",
       "      <td>0.107579</td>\n",
       "      <td>0.192982</td>\n",
       "    </tr>\n",
       "    <tr>\n",
       "      <th>rougeL</th>\n",
       "      <td>0.916667</td>\n",
       "      <td>0.107317</td>\n",
       "      <td>0.192140</td>\n",
       "    </tr>\n",
       "  </tbody>\n",
       "</table>\n",
       "</div>"
      ],
      "text/plain": [
       "        precision    recall  fmeasure\n",
       "rouge1   0.958333  0.112195  0.200873\n",
       "rouge2   0.936170  0.107579  0.192982\n",
       "rougeL   0.916667  0.107317  0.192140"
      ]
     },
     "execution_count": 12,
     "metadata": {},
     "output_type": "execute_result"
    }
   ],
   "source": [
    "scores = scorer.score(response2_FLASH, reference_answer_q2)\n",
    "pd.DataFrame.from_dict(scores, orient=\"index\")"
   ]
  },
  {
   "cell_type": "markdown",
   "id": "2699a5c8-7092-4751-be68-5e669c3efe40",
   "metadata": {},
   "source": [
    "#### Question 3"
   ]
  },
  {
   "cell_type": "code",
   "execution_count": 13,
   "id": "31d7f690-b345-4149-a35d-d22dae0f8dda",
   "metadata": {
    "tags": []
   },
   "outputs": [
    {
     "name": "stdout",
     "output_type": "stream",
     "text": [
      "Question 3:\n",
      "What assignments are due on July 25th and what do I have to do for them?\n"
     ]
    }
   ],
   "source": [
    "print(\"Question 3:\\n\" + question3_FLASH)"
   ]
  },
  {
   "cell_type": "code",
   "execution_count": 14,
   "id": "368105d0-e624-4588-9489-4f08e549df0f",
   "metadata": {
    "tags": []
   },
   "outputs": [
    {
     "name": "stdout",
     "output_type": "stream",
     "text": [
      "Ed's Response for Question 3:\n",
      "The only assignment due on July 25th is **Marketing Analytics Assignment 4**. \n",
      "\n",
      "\n",
      "## Marketing Analytics Assignment 4 Instructions:\n",
      "\n",
      "This assignment requires you to design and execute a comprehensive marketing analytics project. Here's a breakdown of the steps:\n",
      "\n",
      "**1. Choose a Marketing Problem:**\n",
      "\n",
      "* Select a marketing problem or question that interests you. This could be related to customer behavior, market trends, campaign effectiveness, etc.\n",
      "\n",
      "**2. Collect and Prepare Data:**\n",
      "\n",
      "* Gather relevant data from available sources (company databases, online datasets, surveys).\n",
      "* Ensure your data is clean, complete, and properly formatted.\n",
      "\n",
      "**3. Conduct Analyses:**\n",
      "\n",
      "* **Data Cleaning and Preparation:** Ensure the data is clean, complete, and formatted correctly.\n",
      "* **Exploratory Data Analysis (EDA):** Explore the data to understand its structure and identify key patterns.\n",
      "* **Hypothesis Testing:** Formulate and test hypotheses related to your marketing problem.\n",
      "* **Predictive Modeling:** Build models to predict future outcomes related to your marketing problem.\n",
      "* **Optimization Analysis:** Identify the optimal marketing strategies based on your analysis.\n",
      "\n",
      "**4. Create Visualizations:**\n",
      "\n",
      "* Use visualizations to support your analysis and findings.\n",
      "\n",
      "**5. Write a Comprehensive Report:**\n",
      "\n",
      "* **Introduction:** Briefly introduce the marketing problem and the purpose of your analysis.\n",
      "* **Data Collection and Preparation:** Describe the data sources, cleaning methods, and formatting.\n",
      "* **Exploratory Data Analysis:** Summarize your findings from the EDA.\n",
      "* **Hypothesis Testing:** Present your hypotheses, testing methods, and results.\n",
      "* **Predictive Modeling:** Explain the models you built, their performance, and key insights.\n",
      "* **Optimization Analysis:** Discuss your findings and recommendations for optimal marketing strategies.\n",
      "* **Strategic Recommendations:** Provide actionable recommendations based on your analysis.\n",
      "* **Conclusion:** Summarize your key findings and the implications for the marketing problem.\n",
      "\n",
      "**6. Prepare a Presentation:**\n",
      "\n",
      "* Summarize your project, key findings, and recommendations in a clear and concise presentation.\n",
      "* Use visuals to support your presentation.\n",
      "\n",
      "**7. Submit Your Work:**\n",
      "\n",
      "* Submit your report, presentation, and any supporting files (code, data, visualizations) through the course's online submission system.\n",
      "\n",
      "**Evaluation Criteria:**\n",
      "\n",
      "* Relevance and clarity of the chosen marketing problem.\n",
      "* Thoroughness and accuracy of data collection and preparation.\n",
      "* Depth and rigor of your analyses.\n",
      "* Effectiveness and clarity of your visualizations.\n",
      "* Insightfulness and feasibility of your strategic recommendations.\n",
      "* Professionalism and organization of your report and presentation.\n",
      "\n",
      "**Submission Details:**\n",
      "\n",
      "* **Due Date:** [Insert Due Date Here]\n",
      "* **Submission Format:** PDF report, presentation slides, and supporting files (e.g., code, data, visualizations).\n",
      "* **Submission Method:** Upload to the course's online submission system.\n"
     ]
    }
   ],
   "source": [
    "print(\"Ed's Response for Question 3:\")\n",
    "print(response3_FLASH)"
   ]
  },
  {
   "cell_type": "code",
   "execution_count": 15,
   "id": "ac2fa39c-24c4-44df-83c1-5a12a88994ba",
   "metadata": {
    "tags": []
   },
   "outputs": [
    {
     "name": "stdout",
     "output_type": "stream",
     "text": [
      "Reference Answer for Question 3:\n",
      "\n",
      "On July 25th, you have Assignment 4 in Marketing Analytics due at 11:59. For this assignment you have to:\n",
      "\n",
      "1. Choose a marketing problem or question that interests you. This could be related to customer behavior, market trends, campaign effectiveness, etc.    \n",
      "\n",
      "2. Collect relevant data from available sources (e.g., company databases, online datasets, surveys). Ensure that your data is clean and properly formatted.  \n",
      "\n",
      "3. Use appropriate software tools (e.g., R, Python, Tableau) to conduct the following analyses:   \n",
      "• a. Data Cleaning and Preparation: Ensure the data is clean, complete, and formatted correctly.  \n",
      "• b. Exploratory Data Analysis (EDA): Explore the data to understand its structure and identify key patterns.  \n",
      "• c. Hypothesis Testing: Formulate and test hypotheses related to your marketing problem.    \n",
      "• d. Predictive Modeling: Build models to predict future outcomes related to your marketing problem.      \n",
      "• e. Optimization Analysis: Identify the optimal marketing strategies based on your analysis.   \n",
      "\n",
      "4. Create visualizations to support your analysis and findings.\n",
      "\n",
      "5. Write a comprehensive report that includes the following sections:   \n",
      "• a. Introduction \n",
      "• b. Data Collection and Preparation      \n",
      "• c. Exploratory Data Analysis      \n",
      "• d. Hypothesis Testing \n",
      "• e. Predictive Modeling      \n",
      "• f. Optimization Analysis    \n",
      "• g. Strategic Recommendations      \n",
      "• h. Conclusion   \n",
      "\n",
      "6. Prepare a presentation that summarizes your project, key findings, and recommendations. Your presentation should be clear, concise, and supported by visuals.    \n",
      "\n",
      "7. Submit your report, presentation, and any supporting files (e.g., code, data, visualizations) through the course's online submission system.\n",
      "\n"
     ]
    }
   ],
   "source": [
    "reference_answer_q3 = \"\"\"\n",
    "On July 25th, you have Assignment 4 in Marketing Analytics due at 11:59. For this assignment you have to:\n",
    "\n",
    "1. Choose a marketing problem or question that interests you. This could be related to customer behavior, market trends, campaign effectiveness, etc.    \n",
    "\n",
    "2. Collect relevant data from available sources (e.g., company databases, online datasets, surveys). Ensure that your data is clean and properly formatted.  \n",
    "\n",
    "3. Use appropriate software tools (e.g., R, Python, Tableau) to conduct the following analyses:   \n",
    "• a. Data Cleaning and Preparation: Ensure the data is clean, complete, and formatted correctly.  \n",
    "• b. Exploratory Data Analysis (EDA): Explore the data to understand its structure and identify key patterns.  \n",
    "• c. Hypothesis Testing: Formulate and test hypotheses related to your marketing problem.    \n",
    "• d. Predictive Modeling: Build models to predict future outcomes related to your marketing problem.      \n",
    "• e. Optimization Analysis: Identify the optimal marketing strategies based on your analysis.   \n",
    "\n",
    "4. Create visualizations to support your analysis and findings.\n",
    "\n",
    "5. Write a comprehensive report that includes the following sections:   \n",
    "• a. Introduction \n",
    "• b. Data Collection and Preparation      \n",
    "• c. Exploratory Data Analysis      \n",
    "• d. Hypothesis Testing \n",
    "• e. Predictive Modeling      \n",
    "• f. Optimization Analysis    \n",
    "• g. Strategic Recommendations      \n",
    "• h. Conclusion   \n",
    "\n",
    "6. Prepare a presentation that summarizes your project, key findings, and recommendations. Your presentation should be clear, concise, and supported by visuals.    \n",
    "\n",
    "7. Submit your report, presentation, and any supporting files (e.g., code, data, visualizations) through the course's online submission system.\n",
    "\"\"\"\n",
    "print(\"Reference Answer for Question 3:\\n\" + reference_answer_q3)"
   ]
  },
  {
   "cell_type": "code",
   "execution_count": 16,
   "id": "7db68c2a-b7e4-4b77-8d2b-f41d5f8aff9a",
   "metadata": {
    "tags": []
   },
   "outputs": [
    {
     "data": {
      "text/html": [
       "<div>\n",
       "<style scoped>\n",
       "    .dataframe tbody tr th:only-of-type {\n",
       "        vertical-align: middle;\n",
       "    }\n",
       "\n",
       "    .dataframe tbody tr th {\n",
       "        vertical-align: top;\n",
       "    }\n",
       "\n",
       "    .dataframe thead th {\n",
       "        text-align: right;\n",
       "    }\n",
       "</style>\n",
       "<table border=\"1\" class=\"dataframe\">\n",
       "  <thead>\n",
       "    <tr style=\"text-align: right;\">\n",
       "      <th></th>\n",
       "      <th>precision</th>\n",
       "      <th>recall</th>\n",
       "      <th>fmeasure</th>\n",
       "    </tr>\n",
       "  </thead>\n",
       "  <tbody>\n",
       "    <tr>\n",
       "      <th>rouge1</th>\n",
       "      <td>0.846809</td>\n",
       "      <td>0.526455</td>\n",
       "      <td>0.649266</td>\n",
       "    </tr>\n",
       "    <tr>\n",
       "      <th>rouge2</th>\n",
       "      <td>0.662393</td>\n",
       "      <td>0.411141</td>\n",
       "      <td>0.507365</td>\n",
       "    </tr>\n",
       "    <tr>\n",
       "      <th>rougeL</th>\n",
       "      <td>0.782979</td>\n",
       "      <td>0.486772</td>\n",
       "      <td>0.600326</td>\n",
       "    </tr>\n",
       "  </tbody>\n",
       "</table>\n",
       "</div>"
      ],
      "text/plain": [
       "        precision    recall  fmeasure\n",
       "rouge1   0.846809  0.526455  0.649266\n",
       "rouge2   0.662393  0.411141  0.507365\n",
       "rougeL   0.782979  0.486772  0.600326"
      ]
     },
     "execution_count": 16,
     "metadata": {},
     "output_type": "execute_result"
    }
   ],
   "source": [
    "scores = scorer.score(response3_FLASH, reference_answer_q3)\n",
    "pd.DataFrame.from_dict(scores, orient=\"index\")"
   ]
  },
  {
   "cell_type": "markdown",
   "id": "1cce4923-03b9-4607-9df2-e4139dac8073",
   "metadata": {},
   "source": [
    "## Gemini 1.5 Pro"
   ]
  },
  {
   "cell_type": "code",
   "execution_count": 17,
   "id": "cb36b93b-f688-4573-85f0-20abd27eacfe",
   "metadata": {},
   "outputs": [
    {
     "name": "stdin",
     "output_type": "stream",
     "text": [
      "Enter new database host (or press Enter to keep current):  \n",
      "Enter new database user (or press Enter to keep current):  \n",
      "Enter new database password (input hidden, or press Enter to keep current):  ········\n",
      "Enter new database name (or press Enter to keep current):  \n"
     ]
    }
   ],
   "source": [
    "# Gemini 1.5 Pro\n",
    "notebook_path = '/home/jupyter/2. Capstone 2/2. New Features for Testing/Model Evaluation/CC_Final_Agent_Pro.ipynb'\n",
    "run_notebook(notebook_path)"
   ]
  },
  {
   "cell_type": "markdown",
   "id": "23974a78-2184-4d20-8261-301fe82bbb1f",
   "metadata": {},
   "source": [
    "#### Question 1"
   ]
  },
  {
   "cell_type": "code",
   "execution_count": 18,
   "id": "a532a8b7-5098-40cc-96cc-dd660d4b0239",
   "metadata": {
    "tags": []
   },
   "outputs": [
    {
     "name": "stdout",
     "output_type": "stream",
     "text": [
      "Question 1:\n",
      "Do I have anything due on July 21st?\n"
     ]
    }
   ],
   "source": [
    "print(\"Question 1:\\n\" + question1_PRO)"
   ]
  },
  {
   "cell_type": "code",
   "execution_count": 19,
   "id": "40f017fe-2ac9-437e-b2ed-7255b9553ffd",
   "metadata": {
    "tags": []
   },
   "outputs": [
    {
     "name": "stdout",
     "output_type": "stream",
     "text": [
      "Ed's Response for Question 1:\n",
      "The student has the Statistical Analysis Quiz 2 due on July 21st.\n"
     ]
    }
   ],
   "source": [
    "print(\"Ed's Response for Question 1:\")\n",
    "print(response1_PRO)"
   ]
  },
  {
   "cell_type": "code",
   "execution_count": 20,
   "id": "06903c79-7b19-4488-a813-57a33ab8189a",
   "metadata": {
    "tags": []
   },
   "outputs": [
    {
     "name": "stdout",
     "output_type": "stream",
     "text": [
      "Reference Answer for Question 1:\n",
      "On July 21st, you have Quiz 2 in Statistical Analysis due at 11:59.\n"
     ]
    }
   ],
   "source": [
    "reference_answer_q1 = \"On July 21st, you have Quiz 2 in Statistical Analysis due at 11:59.\"\n",
    "print(\"Reference Answer for Question 1:\\n\" + reference_answer_q1) "
   ]
  },
  {
   "cell_type": "code",
   "execution_count": 21,
   "id": "0c9d53d5-b75f-4d6b-8d99-d15c56f0b2c3",
   "metadata": {
    "tags": []
   },
   "outputs": [
    {
     "data": {
      "text/html": [
       "<div>\n",
       "<style scoped>\n",
       "    .dataframe tbody tr th:only-of-type {\n",
       "        vertical-align: middle;\n",
       "    }\n",
       "\n",
       "    .dataframe tbody tr th {\n",
       "        vertical-align: top;\n",
       "    }\n",
       "\n",
       "    .dataframe thead th {\n",
       "        text-align: right;\n",
       "    }\n",
       "</style>\n",
       "<table border=\"1\" class=\"dataframe\">\n",
       "  <thead>\n",
       "    <tr style=\"text-align: right;\">\n",
       "      <th></th>\n",
       "      <th>precision</th>\n",
       "      <th>recall</th>\n",
       "      <th>fmeasure</th>\n",
       "    </tr>\n",
       "  </thead>\n",
       "  <tbody>\n",
       "    <tr>\n",
       "      <th>rouge1</th>\n",
       "      <td>0.571429</td>\n",
       "      <td>0.666667</td>\n",
       "      <td>0.615385</td>\n",
       "    </tr>\n",
       "    <tr>\n",
       "      <th>rouge2</th>\n",
       "      <td>0.307692</td>\n",
       "      <td>0.363636</td>\n",
       "      <td>0.333333</td>\n",
       "    </tr>\n",
       "    <tr>\n",
       "      <th>rougeL</th>\n",
       "      <td>0.214286</td>\n",
       "      <td>0.250000</td>\n",
       "      <td>0.230769</td>\n",
       "    </tr>\n",
       "  </tbody>\n",
       "</table>\n",
       "</div>"
      ],
      "text/plain": [
       "        precision    recall  fmeasure\n",
       "rouge1   0.571429  0.666667  0.615385\n",
       "rouge2   0.307692  0.363636  0.333333\n",
       "rougeL   0.214286  0.250000  0.230769"
      ]
     },
     "execution_count": 21,
     "metadata": {},
     "output_type": "execute_result"
    }
   ],
   "source": [
    "scores = scorer.score(response1_PRO, reference_answer_q1)\n",
    "pd.DataFrame.from_dict(scores, orient=\"index\")"
   ]
  },
  {
   "cell_type": "markdown",
   "id": "e5614646-e1a5-4686-8d3a-8f3240cd8e91",
   "metadata": {},
   "source": [
    "#### Question 2"
   ]
  },
  {
   "cell_type": "code",
   "execution_count": 22,
   "id": "4187c8f4-be62-4a0b-a6a6-02a8a9eee3dc",
   "metadata": {
    "tags": []
   },
   "outputs": [
    {
     "name": "stdout",
     "output_type": "stream",
     "text": [
      "Question 2:\n",
      "What is the course description for Marketing Analytics?\n"
     ]
    }
   ],
   "source": [
    "print(\"Question 2:\\n\" + question2_PRO)"
   ]
  },
  {
   "cell_type": "code",
   "execution_count": 23,
   "id": "db41a53a-6bb3-4219-a661-b7be70d725dc",
   "metadata": {
    "tags": []
   },
   "outputs": [
    {
     "name": "stdout",
     "output_type": "stream",
     "text": [
      "Ed's Response for Question 2:\n",
      "This course provides an introduction to the principles and practices of marketing analytics. Students will learn how to collect, analyze, and interpret data to make informed marketing decisions. The course covers various analytical techniques and tools used to measure marketing performance, understand customer behavior, and optimize marketing strategies.\n"
     ]
    }
   ],
   "source": [
    "print(\"Ed's Response for Question 2:\")\n",
    "print(response2_PRO)"
   ]
  },
  {
   "cell_type": "code",
   "execution_count": 24,
   "id": "4759a021-e251-454e-b9d7-ee32430eea85",
   "metadata": {
    "tags": []
   },
   "outputs": [
    {
     "name": "stdout",
     "output_type": "stream",
     "text": [
      "Reference Answer for Question 2:\n",
      "This course provides an introduction to the principles and practices of marketing analytics. Students will learn how to collect, analyze, and interpret data to make informed marketing decisions.  The course covers various analytical techniques and tools used to measure marketing performance, understand customer behavior, and optimize marketing strategies.\n"
     ]
    }
   ],
   "source": [
    "reference_answer_q2 = \"This course provides an introduction to the principles and practices of marketing analytics. Students will learn how to collect, analyze, and interpret data to make informed marketing decisions.  The course covers various analytical techniques and tools used to measure marketing performance, understand customer behavior, and optimize marketing strategies.\"\n",
    "print(\"Reference Answer for Question 2:\\n\" + reference_answer_q2) "
   ]
  },
  {
   "cell_type": "code",
   "execution_count": 25,
   "id": "2272a78e-bf67-4918-ad50-480ee6ba0676",
   "metadata": {
    "tags": []
   },
   "outputs": [
    {
     "data": {
      "text/html": [
       "<div>\n",
       "<style scoped>\n",
       "    .dataframe tbody tr th:only-of-type {\n",
       "        vertical-align: middle;\n",
       "    }\n",
       "\n",
       "    .dataframe tbody tr th {\n",
       "        vertical-align: top;\n",
       "    }\n",
       "\n",
       "    .dataframe thead th {\n",
       "        text-align: right;\n",
       "    }\n",
       "</style>\n",
       "<table border=\"1\" class=\"dataframe\">\n",
       "  <thead>\n",
       "    <tr style=\"text-align: right;\">\n",
       "      <th></th>\n",
       "      <th>precision</th>\n",
       "      <th>recall</th>\n",
       "      <th>fmeasure</th>\n",
       "    </tr>\n",
       "  </thead>\n",
       "  <tbody>\n",
       "    <tr>\n",
       "      <th>rouge1</th>\n",
       "      <td>1.0</td>\n",
       "      <td>1.0</td>\n",
       "      <td>1.0</td>\n",
       "    </tr>\n",
       "    <tr>\n",
       "      <th>rouge2</th>\n",
       "      <td>1.0</td>\n",
       "      <td>1.0</td>\n",
       "      <td>1.0</td>\n",
       "    </tr>\n",
       "    <tr>\n",
       "      <th>rougeL</th>\n",
       "      <td>1.0</td>\n",
       "      <td>1.0</td>\n",
       "      <td>1.0</td>\n",
       "    </tr>\n",
       "  </tbody>\n",
       "</table>\n",
       "</div>"
      ],
      "text/plain": [
       "        precision  recall  fmeasure\n",
       "rouge1        1.0     1.0       1.0\n",
       "rouge2        1.0     1.0       1.0\n",
       "rougeL        1.0     1.0       1.0"
      ]
     },
     "execution_count": 25,
     "metadata": {},
     "output_type": "execute_result"
    }
   ],
   "source": [
    "scores = scorer.score(response2_PRO, reference_answer_q2)\n",
    "pd.DataFrame.from_dict(scores, orient=\"index\")"
   ]
  },
  {
   "cell_type": "markdown",
   "id": "2759cbc3-08ee-407a-998f-ef9f55153e8c",
   "metadata": {},
   "source": [
    "#### Question 3"
   ]
  },
  {
   "cell_type": "code",
   "execution_count": 26,
   "id": "60bd8196-a30e-4864-b325-4834a8903fb0",
   "metadata": {
    "tags": []
   },
   "outputs": [
    {
     "name": "stdout",
     "output_type": "stream",
     "text": [
      "Question 3:\n",
      "What assignments are due on July 25th and what do I have to do for them?\n"
     ]
    }
   ],
   "source": [
    "print(\"Question 3:\\n\" + question3_PRO)"
   ]
  },
  {
   "cell_type": "code",
   "execution_count": 27,
   "id": "a7fb4f04-b1fb-499a-b5be-e8e81ea4aa44",
   "metadata": {
    "tags": []
   },
   "outputs": [
    {
     "name": "stdout",
     "output_type": "stream",
     "text": [
      "Ed's Response for Question 3:\n",
      "The student has **Marketing Analytics Assignment 4** due on July 25th. \n",
      "\n",
      "\n",
      "Here are the instructions for the Marketing Analytics Assignment 4, broken down step-by-step:\n",
      "\n",
      "**Project Goal:** Design and execute a complete marketing analytics project.\n",
      "\n",
      "**Steps:**\n",
      "\n",
      "1. **Choose a Marketing Problem:** Select a marketing-related problem or question you find interesting. Examples: \n",
      "    * Understanding customer behavior \n",
      "    * Analyzing market trends\n",
      "    * Evaluating campaign effectiveness\n",
      "\n",
      "2. **Data Collection and Preparation:**\n",
      "    * Gather relevant data from sources like company databases, online datasets, or surveys.\n",
      "    * Clean and format the data to ensure accuracy and usability.\n",
      "\n",
      "3. **Data Analysis:** Utilize software like R, Python, or Tableau to perform these analyses:\n",
      "    * **Data Cleaning and Preparation:** Double-check data for completeness and correct formatting.\n",
      "    * **Exploratory Data Analysis (EDA):** Uncover patterns and trends in your data.\n",
      "    * **Hypothesis Testing:** Formulate and statistically test hypotheses related to your marketing problem.\n",
      "    * **Predictive Modeling:** Build models to forecast future outcomes relevant to your problem.\n",
      "    * **Optimization Analysis:** Determine the most effective marketing strategies based on your findings.\n",
      "\n",
      "4. **Visualization:** Create visual representations (e.g., charts, graphs) to clearly communicate your analysis and findings.\n",
      "\n",
      "5. **Report Writing:**  Structure your report with these sections:\n",
      "    * **Introduction:** Present your marketing problem and the project's objectives.\n",
      "    * **Data Collection and Preparation:** Detail your data sources and the steps taken to clean and prepare the data.\n",
      "    * **Exploratory Data Analysis:**  Share your findings from exploring the data.\n",
      "    * **Hypothesis Testing:** Explain your hypotheses, the tests conducted, and the results.\n",
      "    * **Predictive Modeling:** Describe the models you built, their performance, and predictions.\n",
      "    * **Optimization Analysis:**  Present your recommendations for optimized marketing strategies.\n",
      "    * **Strategic Recommendations:** Provide actionable and specific recommendations based on your analysis.\n",
      "    * **Conclusion:** Summarize your key findings and their implications.\n",
      "\n",
      "6. **Presentation:** Prepare a concise presentation summarizing your project, highlighting key findings, and outlining your recommendations. Use visuals to enhance clarity and engagement.\n",
      "\n",
      "7. **Submission:** Submit your report, presentation slides, and any supporting files (code, data, visualizations) through the designated online system by the due date.\n",
      "\n",
      "**Evaluation:** Your assignment will be assessed on:\n",
      "\n",
      "* **Relevance and Clarity of the Problem:** How well-defined and relevant is your chosen marketing problem?\n",
      "* **Data Collection and Preparation:** How thoroughly and accurately did you collect and prepare your data?\n",
      "* **Depth and Rigor of Analyses:** How in-depth and statistically sound are your analyses?\n",
      "* **Effectiveness of Visualizations:** How clearly and effectively do your visualizations communicate your findings?\n",
      "* **Insightfulness and Feasibility of Recommendations:** How insightful and actionable are your strategic recommendations?\n",
      "* **Professionalism and Organization:** How well-organized, clear, and professionally presented are your report and presentation?\n"
     ]
    }
   ],
   "source": [
    "print(\"Ed's Response for Question 3:\")\n",
    "print(response3_PRO)"
   ]
  },
  {
   "cell_type": "code",
   "execution_count": 28,
   "id": "1387dbd6-6dc1-4197-a23d-67a35a4624d9",
   "metadata": {
    "tags": []
   },
   "outputs": [
    {
     "name": "stdout",
     "output_type": "stream",
     "text": [
      "Reference Answer for Question 3:\n",
      "\n",
      "On July 25th, you have Assignment 4 in Marketing Analytics due at 11:59. For this assignment you have to:\n",
      "\n",
      "1. Choose a marketing problem or question that interests you. This could be related to customer behavior, market trends, campaign effectiveness, etc.    \n",
      "\n",
      "2. Collect relevant data from available sources (e.g., company databases, online datasets, surveys). Ensure that your data is clean and properly formatted.  \n",
      "\n",
      "3. Use appropriate software tools (e.g., R, Python, Tableau) to conduct the following analyses:   \n",
      "• a. Data Cleaning and Preparation: Ensure the data is clean, complete, and formatted correctly.  \n",
      "• b. Exploratory Data Analysis (EDA): Explore the data to understand its structure and identify key patterns.  \n",
      "• c. Hypothesis Testing: Formulate and test hypotheses related to your marketing problem.    \n",
      "• d. Predictive Modeling: Build models to predict future outcomes related to your marketing problem.      \n",
      "• e. Optimization Analysis: Identify the optimal marketing strategies based on your analysis.   \n",
      "\n",
      "4. Create visualizations to support your analysis and findings.\n",
      "\n",
      "5. Write a comprehensive report that includes the following sections:   \n",
      "• a. Introduction \n",
      "• b. Data Collection and Preparation      \n",
      "• c. Exploratory Data Analysis      \n",
      "• d. Hypothesis Testing \n",
      "• e. Predictive Modeling      \n",
      "• f. Optimization Analysis    \n",
      "• g. Strategic Recommendations      \n",
      "• h. Conclusion   \n",
      "\n",
      "6. Prepare a presentation that summarizes your project, key findings, and recommendations. Your presentation should be clear, concise, and supported by visuals.    \n",
      "\n",
      "7. Submit your report, presentation, and any supporting files (e.g., code, data, visualizations) through the course's online submission system.\n",
      "\n"
     ]
    }
   ],
   "source": [
    "reference_answer_q3 = \"\"\"\n",
    "On July 25th, you have Assignment 4 in Marketing Analytics due at 11:59. For this assignment you have to:\n",
    "\n",
    "1. Choose a marketing problem or question that interests you. This could be related to customer behavior, market trends, campaign effectiveness, etc.    \n",
    "\n",
    "2. Collect relevant data from available sources (e.g., company databases, online datasets, surveys). Ensure that your data is clean and properly formatted.  \n",
    "\n",
    "3. Use appropriate software tools (e.g., R, Python, Tableau) to conduct the following analyses:   \n",
    "• a. Data Cleaning and Preparation: Ensure the data is clean, complete, and formatted correctly.  \n",
    "• b. Exploratory Data Analysis (EDA): Explore the data to understand its structure and identify key patterns.  \n",
    "• c. Hypothesis Testing: Formulate and test hypotheses related to your marketing problem.    \n",
    "• d. Predictive Modeling: Build models to predict future outcomes related to your marketing problem.      \n",
    "• e. Optimization Analysis: Identify the optimal marketing strategies based on your analysis.   \n",
    "\n",
    "4. Create visualizations to support your analysis and findings.\n",
    "\n",
    "5. Write a comprehensive report that includes the following sections:   \n",
    "• a. Introduction \n",
    "• b. Data Collection and Preparation      \n",
    "• c. Exploratory Data Analysis      \n",
    "• d. Hypothesis Testing \n",
    "• e. Predictive Modeling      \n",
    "• f. Optimization Analysis    \n",
    "• g. Strategic Recommendations      \n",
    "• h. Conclusion   \n",
    "\n",
    "6. Prepare a presentation that summarizes your project, key findings, and recommendations. Your presentation should be clear, concise, and supported by visuals.    \n",
    "\n",
    "7. Submit your report, presentation, and any supporting files (e.g., code, data, visualizations) through the course's online submission system.\n",
    "\"\"\"\n",
    "print(\"Reference Answer for Question 3:\\n\" + reference_answer_q3)"
   ]
  },
  {
   "cell_type": "code",
   "execution_count": 29,
   "id": "66ff579d-e135-47ae-a4e5-8b2fb96715e4",
   "metadata": {
    "tags": []
   },
   "outputs": [
    {
     "data": {
      "text/html": [
       "<div>\n",
       "<style scoped>\n",
       "    .dataframe tbody tr th:only-of-type {\n",
       "        vertical-align: middle;\n",
       "    }\n",
       "\n",
       "    .dataframe tbody tr th {\n",
       "        vertical-align: top;\n",
       "    }\n",
       "\n",
       "    .dataframe thead th {\n",
       "        text-align: right;\n",
       "    }\n",
       "</style>\n",
       "<table border=\"1\" class=\"dataframe\">\n",
       "  <thead>\n",
       "    <tr style=\"text-align: right;\">\n",
       "      <th></th>\n",
       "      <th>precision</th>\n",
       "      <th>recall</th>\n",
       "      <th>fmeasure</th>\n",
       "    </tr>\n",
       "  </thead>\n",
       "  <tbody>\n",
       "    <tr>\n",
       "      <th>rouge1</th>\n",
       "      <td>0.791489</td>\n",
       "      <td>0.449275</td>\n",
       "      <td>0.573190</td>\n",
       "    </tr>\n",
       "    <tr>\n",
       "      <th>rouge2</th>\n",
       "      <td>0.380342</td>\n",
       "      <td>0.215496</td>\n",
       "      <td>0.275116</td>\n",
       "    </tr>\n",
       "    <tr>\n",
       "      <th>rougeL</th>\n",
       "      <td>0.600000</td>\n",
       "      <td>0.340580</td>\n",
       "      <td>0.434515</td>\n",
       "    </tr>\n",
       "  </tbody>\n",
       "</table>\n",
       "</div>"
      ],
      "text/plain": [
       "        precision    recall  fmeasure\n",
       "rouge1   0.791489  0.449275  0.573190\n",
       "rouge2   0.380342  0.215496  0.275116\n",
       "rougeL   0.600000  0.340580  0.434515"
      ]
     },
     "execution_count": 29,
     "metadata": {},
     "output_type": "execute_result"
    }
   ],
   "source": [
    "scores = scorer.score(response3_PRO, reference_answer_q3)\n",
    "pd.DataFrame.from_dict(scores, orient=\"index\")"
   ]
  }
 ],
 "metadata": {
  "environment": {
   "kernel": "python3",
   "name": "tf2-cpu.2-11.m119",
   "type": "gcloud",
   "uri": "us-docker.pkg.dev/deeplearning-platform-release/gcr.io/tf2-cpu.2-11:m119"
  },
  "kernelspec": {
   "display_name": "Python 3",
   "language": "python",
   "name": "python3"
  },
  "language_info": {
   "codemirror_mode": {
    "name": "ipython",
    "version": 3
   },
   "file_extension": ".py",
   "mimetype": "text/x-python",
   "name": "python",
   "nbconvert_exporter": "python",
   "pygments_lexer": "ipython3",
   "version": "3.10.14"
  }
 },
 "nbformat": 4,
 "nbformat_minor": 5
}
