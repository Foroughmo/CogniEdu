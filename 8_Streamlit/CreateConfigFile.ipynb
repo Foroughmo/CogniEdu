{
 "cells": [
  {
   "cell_type": "code",
   "execution_count": 4,
   "id": "493fba69-664a-4d09-ab9f-bef3f9a77eba",
   "metadata": {
    "tags": []
   },
   "outputs": [
    {
     "name": "stdout",
     "output_type": "stream",
     "text": [
      "config.toml file is located at: /home/jupyter/2. Capstone 2/0. Capstone2_App/.streamlit/config.toml\n",
      "Contents of .streamlit directory: ['config.toml']\n"
     ]
    }
   ],
   "source": [
    "import os\n",
    "\n",
    "# Create .streamlit directory if it doesn't exist\n",
    "os.makedirs('.streamlit', exist_ok=True)\n",
    "\n",
    "# Define the content of the config.toml file\n",
    "config_content = \"\"\"\n",
    "[client]\n",
    "showSidebarNavigation = false\n",
    "\"\"\"\n",
    "\n",
    "# Write the content to the config.toml file\n",
    "config_file_path = os.path.join('.streamlit', 'config.toml')\n",
    "with open(config_file_path, 'w') as file:\n",
    "    file.write(config_content)\n",
    "\n",
    "# Print the absolute path of the config.toml file\n",
    "absolute_path = os.path.abspath(config_file_path)\n",
    "print(f\"config.toml file is located at: {absolute_path}\")\n",
    "\n",
    "# Verify the creation\n",
    "print(\"Contents of .streamlit directory:\", os.listdir('.streamlit'))\n"
   ]
  }
 ],
 "metadata": {
  "environment": {
   "kernel": "python3",
   "name": "tf2-cpu.2-11.m119",
   "type": "gcloud",
   "uri": "us-docker.pkg.dev/deeplearning-platform-release/gcr.io/tf2-cpu.2-11:m119"
  },
  "kernelspec": {
   "display_name": "Python 3",
   "language": "python",
   "name": "python3"
  },
  "language_info": {
   "codemirror_mode": {
    "name": "ipython",
    "version": 3
   },
   "file_extension": ".py",
   "mimetype": "text/x-python",
   "name": "python",
   "nbconvert_exporter": "python",
   "pygments_lexer": "ipython3",
   "version": "3.10.14"
  }
 },
 "nbformat": 4,
 "nbformat_minor": 5
}
