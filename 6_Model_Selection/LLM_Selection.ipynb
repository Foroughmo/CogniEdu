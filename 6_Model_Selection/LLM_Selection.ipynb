{
 "cells": [
  {
   "cell_type": "markdown",
   "id": "73c741cb-ad86-430e-9b2a-26bd8fb94c63",
   "metadata": {},
   "source": [
    "# LLM Selection"
   ]
  },
  {
   "cell_type": "markdown",
   "id": "583a461a-42fc-48c8-a8cc-3cd8a673f0de",
   "metadata": {},
   "source": [
    "## Libraries"
   ]
  },
  {
   "cell_type": "code",
   "execution_count": 1,
   "id": "309a3c00-0df7-4f85-99e7-a810432384c1",
   "metadata": {
    "tags": []
   },
   "outputs": [],
   "source": [
    "import nbformat\n",
    "from nbformat import NO_CONVERT\n",
    "import io\n",
    "import os\n",
    "import sys\n",
    "\n",
    "# LLM Evaluation\n",
    "from langchain_google_vertexai import ChatVertexAI\n",
    "from langchain.evaluation import load_evaluator\n",
    "from langchain_core.prompts import PromptTemplate"
   ]
  },
  {
   "cell_type": "markdown",
   "id": "37d04541-63eb-445a-ad0d-85dc88a250a2",
   "metadata": {},
   "source": [
    "## Import Notebook Content"
   ]
  },
  {
   "cell_type": "code",
   "execution_count": 2,
   "id": "61233882-9877-4ca1-97e3-9956e4427948",
   "metadata": {
    "tags": []
   },
   "outputs": [],
   "source": [
    "def run_notebook(path):\n",
    "    with open(path) as f:\n",
    "        notebook_content = nbformat.read(f, as_version=NO_CONVERT)\n",
    "    code_cells = [cell['source'] for cell in notebook_content.cells if cell.cell_type == 'code']\n",
    "    code = '\\n'.join(code_cells)\n",
    "    \n",
    "    # Omit Output\n",
    "    old_stdout = sys.stdout\n",
    "    old_stderr = sys.stderr\n",
    "    sys.stdout = io.StringIO()\n",
    "    sys.stderr = io.StringIO()\n",
    "    \n",
    "    try:\n",
    "        exec(code, globals())\n",
    "    finally:\n",
    "        sys.stdout = old_stdout\n",
    "        sys.stderr = old_stderr"
   ]
  },
  {
   "cell_type": "code",
   "execution_count": 3,
   "id": "f1867f0f-ab52-47d2-bfd7-67e6adb8ca81",
   "metadata": {
    "tags": []
   },
   "outputs": [
    {
     "name": "stdin",
     "output_type": "stream",
     "text": [
      "Enter new database host (or press Enter to keep current):  \n",
      "Enter new database user (or press Enter to keep current):  \n",
      "Enter new database password (input hidden, or press Enter to keep current):  ········\n",
      "Enter new database name (or press Enter to keep current):  \n"
     ]
    }
   ],
   "source": [
    "# Gemini 1.5 Flash\n",
    "notebook_path_FLASH = '/home/jupyter/2. Capstone 2/2. New Features for Testing/Model Evaluation/CC_Final_Agent_Flash.ipynb'\n",
    "run_notebook(notebook_path_FLASH)"
   ]
  },
  {
   "cell_type": "code",
   "execution_count": 4,
   "id": "bf50337b-173c-4bab-ab2f-27a8636783e1",
   "metadata": {},
   "outputs": [
    {
     "name": "stdin",
     "output_type": "stream",
     "text": [
      "Enter new database host (or press Enter to keep current):  \n",
      "Enter new database user (or press Enter to keep current):  \n",
      "Enter new database password (input hidden, or press Enter to keep current):  ········\n",
      "Enter new database name (or press Enter to keep current):  \n"
     ]
    }
   ],
   "source": [
    "# Gemini 1.5 Pro\n",
    "notebook_path_PRO = '/home/jupyter/2. Capstone 2/2. New Features for Testing/Model Evaluation/CC_Final_Agent_Pro.ipynb'\n",
    "run_notebook(notebook_path_PRO)"
   ]
  },
  {
   "cell_type": "markdown",
   "id": "34d891c7-b934-4630-bdcc-d94d7302db6d",
   "metadata": {},
   "source": [
    "## Questions, Reference Answers and Ed's Responses"
   ]
  },
  {
   "cell_type": "markdown",
   "id": "519cee2f-4cf7-4c4e-8106-23b7452765bd",
   "metadata": {},
   "source": [
    "#### Question 1"
   ]
  },
  {
   "cell_type": "code",
   "execution_count": 5,
   "id": "b66b19f7-9355-4886-b5dc-6e371b520ede",
   "metadata": {
    "tags": []
   },
   "outputs": [
    {
     "name": "stdout",
     "output_type": "stream",
     "text": [
      "Question 1:\n",
      "Flash: Do I have anything due on July 21st?\n",
      "Pro: Do I have anything due on July 21st?\n"
     ]
    }
   ],
   "source": [
    "print(\"Question 1:\")\n",
    "print(\"Flash: \" + question1_FLASH)\n",
    "print(\"Pro: \" + question1_PRO)"
   ]
  },
  {
   "cell_type": "code",
   "execution_count": 6,
   "id": "ec4f9242-42af-4ef6-8787-9329cd208fa0",
   "metadata": {
    "tags": []
   },
   "outputs": [],
   "source": [
    "question1 = question1_FLASH"
   ]
  },
  {
   "cell_type": "code",
   "execution_count": 7,
   "id": "25ecd5b3-7d01-4d66-836c-1d07d4161514",
   "metadata": {
    "tags": []
   },
   "outputs": [
    {
     "name": "stdout",
     "output_type": "stream",
     "text": [
      "Ed's Response for Question 1:\n",
      "Flash: On July 21st, the student has a **Statistical Analysis Quiz 2** due at 23:59:00.\n",
      "Pro: The student has the **Statistical Analysis Quiz 2** due on July 21st, 2024.\n"
     ]
    }
   ],
   "source": [
    "print(\"Ed's Response for Question 1:\")\n",
    "print(\"Flash: \" + response1_FLASH)\n",
    "print(\"Pro: \" + response1_PRO)"
   ]
  },
  {
   "cell_type": "code",
   "execution_count": 8,
   "id": "d8858375-9184-48e8-890e-15d45fef86c9",
   "metadata": {
    "tags": []
   },
   "outputs": [
    {
     "name": "stdout",
     "output_type": "stream",
     "text": [
      "Reference Answer for Question 1:\n",
      "On July 21st, you have Quiz 2 in Statistical Analysis due at 11:59.\n"
     ]
    }
   ],
   "source": [
    "reference_answer_q1 = \"On July 21st, you have Quiz 2 in Statistical Analysis due at 11:59.\"\n",
    "print(\"Reference Answer for Question 1:\\n\" + reference_answer_q1)"
   ]
  },
  {
   "cell_type": "markdown",
   "id": "2eada365-8423-4871-ac61-f24f9aac2e77",
   "metadata": {},
   "source": [
    "#### Question 2"
   ]
  },
  {
   "cell_type": "code",
   "execution_count": 9,
   "id": "7bd42f4a-43a3-46af-b6dc-50820faf1377",
   "metadata": {
    "tags": []
   },
   "outputs": [
    {
     "name": "stdout",
     "output_type": "stream",
     "text": [
      "Question 2:\n",
      "Flash: What is the course description for Marketing Analytics?\n",
      "Pro: What is the course description for Marketing Analytics?\n"
     ]
    }
   ],
   "source": [
    "print(\"Question 2:\")\n",
    "print(\"Flash: \" + question2_FLASH)\n",
    "print(\"Pro: \" + question2_PRO)"
   ]
  },
  {
   "cell_type": "code",
   "execution_count": 10,
   "id": "b9c32397-2642-46f0-934c-2c096cfcecac",
   "metadata": {
    "tags": []
   },
   "outputs": [],
   "source": [
    "question2 = question2_FLASH"
   ]
  },
  {
   "cell_type": "code",
   "execution_count": 11,
   "id": "d0212943-fff7-42ec-9edb-0c64a4f676c7",
   "metadata": {
    "tags": []
   },
   "outputs": [
    {
     "name": "stdout",
     "output_type": "stream",
     "text": [
      "Ed's Response for Question 2:\n",
      "\n",
      "Flash:\n",
      "\n",
      "## Marketing Analytics Syllabus\n",
      "\n",
      "This syllabus outlines the course \"Marketing Analytics\" (MKTG 450), taught by [Instructor Name]. \n",
      "\n",
      "**Course Description:**\n",
      "\n",
      "This course introduces the principles and practices of marketing analytics. Students will learn how to collect, analyze, and interpret data to make informed marketing decisions. The course covers various analytical techniques and tools used to measure marketing performance, understand customer behavior, and optimize marketing strategies.\n",
      "\n",
      "**Learning Objectives:**\n",
      "\n",
      "By the end of this course, students will be able to:\n",
      "\n",
      "* Understand the role of analytics in marketing decision-making.\n",
      "* Collect and process marketing data from various sources.\n",
      "* Apply statistical and machine learning techniques to analyze marketing data.\n",
      "* Use data visualization tools to communicate marketing insights effectively.\n",
      "* Develop data-driven marketing strategies to improve business outcomes.\n",
      "\n",
      "**Required Materials:**\n",
      "\n",
      "* Textbook: [Textbook Title, Author, Edition]\n",
      "* Software: R, Python, Tableau, Google Analytics\n",
      "\n",
      "**Course Schedule:**\n",
      "\n",
      "The course is structured over 14 weeks, covering topics such as:\n",
      "\n",
      "* **Introduction to Marketing Analytics:** Importance of marketing analytics, key components of the marketing analytics framework.\n",
      "* **Data Collection and Data Quality:** Sources of marketing data, data collection methods, ensuring data quality.\n",
      "* **Data Cleaning and Exploratory Data Analysis (EDA):** Techniques for data cleaning, exploratory data analysis, descriptive statistics.\n",
      "* **Customer Segmentation:** Methods for customer segmentation, market basket analysis, RFM analysis.\n",
      "* **Predictive Modeling:** Introduction to predictive modeling, regression analysis, time series analysis.\n",
      "* **Customer Lifetime Value (CLV):** Calculating and interpreting CLV, applications of CLV in marketing.\n",
      "* **Marketing Mix Modeling:** Analyzing the impact of marketing tactics, optimizing the marketing mix.\n",
      "* **Digital Marketing Analytics:** Web analytics, social media analytics, measuring digital marketing performance.\n",
      "* **Advanced Analytics Techniques:** Machine learning applications in marketing, sentiment analysis, A/B testing.\n",
      "* **Data Visualization and Reporting:** Creating effective visualizations, reporting tools, storytelling with data.\n",
      "* **Ethics in Marketing Analytics:** Ethical considerations in data collection and analysis, privacy issues.\n",
      "* **Case Studies and Applications:** Real-world applications of marketing analytics, case study discussions.\n",
      "* **Final Project Presentations:** Students present their final marketing analytics projects.\n",
      "* **Review and Future Trends:** Review of key concepts, discussion on future trends in marketing analytics.\n",
      "\n",
      "**Grading and Evaluation:**\n",
      "\n",
      "Your performance in this course will be evaluated based on the following components:\n",
      "\n",
      "* Assignments (40%)\n",
      "* Quizzes (20%)\n",
      "* Final Project (30%)\n",
      "* Participation (10%)\n",
      "\n",
      "**Policies:**\n",
      "\n",
      "* **Attendance:** Regular attendance is expected. Please notify the instructor in advance if you need to miss a class.\n",
      "* **Late Work:** Late submissions will incur a penalty unless prior arrangements are made with the instructor.\n",
      "* **Academic Integrity:** Students are expected to adhere to the university's academic integrity policy. Plagiarism and cheating will not be tolerated.\n",
      "\n",
      "---------------------\n",
      "Pro:\n",
      "\n",
      "This Marketing Analytics course provides an introduction to the principles and practices of marketing analytics. Students will learn how to collect, analyze, and interpret data to make informed marketing decisions. The course covers a variety of analytical techniques and tools used to measure marketing performance, understand customer behavior, and optimize marketing strategies.\n"
     ]
    }
   ],
   "source": [
    "print(\"Ed's Response for Question 2:\")\n",
    "print(\"\\nFlash:\\n\\n\" + response2_FLASH + \"\\n\")\n",
    "print(\"---------------------\")\n",
    "print(\"Pro:\\n\\n\" + response2_PRO)"
   ]
  },
  {
   "cell_type": "code",
   "execution_count": 12,
   "id": "7d9e028f-10cc-42d9-891f-a92399a20ff1",
   "metadata": {
    "tags": []
   },
   "outputs": [
    {
     "name": "stdout",
     "output_type": "stream",
     "text": [
      "Reference Answer for Question 2:\n",
      "This course provides an introduction to the principles and practices of marketing analytics. Students will learn how to collect, analyze, and interpret data to make informed marketing decisions.  The course covers various analytical techniques and tools used to measure marketing performance, understand customer behavior, and optimize marketing strategies.\n"
     ]
    }
   ],
   "source": [
    "reference_answer_q2 = \"This course provides an introduction to the principles and practices of marketing analytics. Students will learn how to collect, analyze, and interpret data to make informed marketing decisions.  The course covers various analytical techniques and tools used to measure marketing performance, understand customer behavior, and optimize marketing strategies.\"\n",
    "print(\"Reference Answer for Question 2:\\n\" + reference_answer_q2) "
   ]
  },
  {
   "cell_type": "markdown",
   "id": "74dfaac3-4120-4264-a5fc-a6b4e6debcbd",
   "metadata": {},
   "source": [
    "#### Question 3"
   ]
  },
  {
   "cell_type": "code",
   "execution_count": 13,
   "id": "c3c7ab1c-fe60-41c9-a200-324e77a2b26b",
   "metadata": {
    "tags": []
   },
   "outputs": [
    {
     "name": "stdout",
     "output_type": "stream",
     "text": [
      "Question 1:\n",
      "Flash: What assignments are due on July 25th and what do I have to do for them?\n",
      "Pro: What assignments are due on July 25th and what do I have to do for them?\n"
     ]
    }
   ],
   "source": [
    "print(\"Question 1:\")\n",
    "print(\"Flash: \" + question3_FLASH)\n",
    "print(\"Pro: \" + question3_PRO)"
   ]
  },
  {
   "cell_type": "code",
   "execution_count": 14,
   "id": "01894f45-cc4c-41df-b092-9c3f64870e44",
   "metadata": {
    "tags": []
   },
   "outputs": [],
   "source": [
    "question3 = question3_FLASH"
   ]
  },
  {
   "cell_type": "code",
   "execution_count": 15,
   "id": "27d5703f-a4c9-4594-b765-0bd2e1a400e5",
   "metadata": {
    "tags": []
   },
   "outputs": [
    {
     "name": "stdout",
     "output_type": "stream",
     "text": [
      "Ed's Response for Question 3:\n",
      "\n",
      "Flash:\n",
      "\n",
      "The only assignment due on July 25th is **Marketing Analytics Assignment 4**. \n",
      "\n",
      "\n",
      "## Marketing Analytics Assignment 4 Instructions:\n",
      "\n",
      "This assignment requires you to design and execute a comprehensive marketing analytics project. Here's a breakdown of the steps:\n",
      "\n",
      "**1. Choose a Marketing Problem:**\n",
      "\n",
      "* Select a marketing problem or question that interests you. This could be related to customer behavior, market trends, campaign effectiveness, etc.\n",
      "\n",
      "**2. Collect and Prepare Data:**\n",
      "\n",
      "* Gather relevant data from available sources (company databases, online datasets, surveys).\n",
      "* Ensure your data is clean, complete, and properly formatted.\n",
      "\n",
      "**3. Conduct Analyses:**\n",
      "\n",
      "* **Data Cleaning and Preparation:** Ensure the data is clean, complete, and formatted correctly.\n",
      "* **Exploratory Data Analysis (EDA):** Explore the data to understand its structure and identify key patterns.\n",
      "* **Hypothesis Testing:** Formulate and test hypotheses related to your marketing problem.\n",
      "* **Predictive Modeling:** Build models to predict future outcomes related to your marketing problem.\n",
      "* **Optimization Analysis:** Identify the optimal marketing strategies based on your analysis.\n",
      "\n",
      "**4. Create Visualizations:**\n",
      "\n",
      "* Use visualizations to support your analysis and findings.\n",
      "\n",
      "**5. Write a Comprehensive Report:**\n",
      "\n",
      "* **Introduction:** Briefly introduce the marketing problem and the purpose of your analysis.\n",
      "* **Data Collection and Preparation:** Describe the data sources, cleaning methods, and formatting.\n",
      "* **Exploratory Data Analysis:** Summarize your findings from the EDA.\n",
      "* **Hypothesis Testing:** Present the hypotheses tested, the results, and their implications.\n",
      "* **Predictive Modeling:** Explain the models built, their performance, and their predictive power.\n",
      "* **Optimization Analysis:** Discuss the optimal marketing strategies identified based on your analysis.\n",
      "* **Strategic Recommendations:** Provide actionable recommendations based on your findings.\n",
      "* **Conclusion:** Summarize your key findings and the significance of your analysis.\n",
      "\n",
      "**6. Prepare a Presentation:**\n",
      "\n",
      "* Summarize your project, key findings, and recommendations in a clear and concise presentation.\n",
      "* Use visuals to support your presentation.\n",
      "\n",
      "**7. Submit Your Work:**\n",
      "\n",
      "* Submit your report, presentation, and any supporting files (code, data, visualizations) through the course's online submission system.\n",
      "\n",
      "**Evaluation Criteria:**\n",
      "\n",
      "* Relevance and clarity of the chosen marketing problem.\n",
      "* Thoroughness and accuracy of data collection and preparation.\n",
      "* Depth and rigor of your analyses.\n",
      "* Effectiveness and clarity of your visualizations.\n",
      "* Insightfulness and feasibility of your strategic recommendations.\n",
      "* Professionalism and organization of your report and presentation.\n",
      "\n",
      "**Submission Details:**\n",
      "\n",
      "* **Due Date:** [Insert Due Date Here]\n",
      "* **Submission Format:** PDF report, presentation slides, and supporting files (e.g., code, data, visualizations).\n",
      "* **Submission Method:** Upload to the course's online submission system.\n",
      "\n",
      "---------------------\n",
      "Pro:\n",
      "\n",
      "The student has **Marketing Analytics Assignment 4** due on July 25th. \n",
      "\n",
      "\n",
      "Here are the instructions for the Marketing Analytics Assignment 4, broken down step-by-step:\n",
      "\n",
      "**Project Goal:** Design and execute a comprehensive marketing analytics project.\n",
      "\n",
      "**Steps:**\n",
      "\n",
      "1. **Choose a Marketing Problem:** Select a marketing-related problem or question that interests you (e.g., customer behavior, market trends, campaign effectiveness).\n",
      "\n",
      "2. **Data Collection and Preparation:**\n",
      "   - Gather relevant data from sources like company databases, online datasets, or surveys.\n",
      "   - Clean and format the data to ensure accuracy and usability.\n",
      "\n",
      "3. **Data Analysis:** Utilize software like R, Python, or Tableau to perform:\n",
      "   - **Data Cleaning and Preparation:** Double-check data for completeness and correct formatting.\n",
      "   - **Exploratory Data Analysis (EDA):**  Uncover patterns and trends in your data.\n",
      "   - **Hypothesis Testing:** Formulate and statistically test hypotheses related to your marketing problem.\n",
      "   - **Predictive Modeling:** Build models to forecast future outcomes relevant to your problem.\n",
      "   - **Optimization Analysis:** Determine the most effective marketing strategies based on your analysis.\n",
      "\n",
      "4. **Visualization:** Create visual representations (graphs, charts) to effectively communicate your analysis and findings.\n",
      "\n",
      "5. **Report Writing:**  Structure your report with the following sections:\n",
      "   - **Introduction:** Introduce the marketing problem and your research objectives.\n",
      "   - **Data Collection and Preparation:** Detail your data sources and the steps taken to clean and prepare the data.\n",
      "   - **Exploratory Data Analysis:** Present the insights gained from exploring your data.\n",
      "   - **Hypothesis Testing:**  Explain your hypotheses, testing methods, and results.\n",
      "   - **Predictive Modeling:** Describe your chosen models, their performance, and predictions.\n",
      "   - **Optimization Analysis:**  Outline the optimal marketing strategies identified.\n",
      "   - **Strategic Recommendations:** Provide actionable recommendations based on your findings.\n",
      "   - **Conclusion:** Summarize your key findings and their implications.\n",
      "\n",
      "6. **Presentation:** Prepare a concise presentation summarizing your project, highlighting key findings, and presenting your recommendations. Use visuals to enhance clarity and engagement.\n",
      "\n",
      "7. **Submission:** Submit your report, presentation slides, and supporting files (code, data, visualizations) through the course's online submission system by the specified due date.\n"
     ]
    }
   ],
   "source": [
    "print(\"Ed's Response for Question 3:\")\n",
    "print(\"\\nFlash:\\n\\n\" + response3_FLASH + \"\\n\")\n",
    "print(\"---------------------\")\n",
    "print(\"Pro:\\n\\n\" + response3_PRO)"
   ]
  },
  {
   "cell_type": "code",
   "execution_count": 16,
   "id": "0d6558d6-4ef4-4b4b-8280-f0f59016c52d",
   "metadata": {
    "tags": []
   },
   "outputs": [
    {
     "name": "stdout",
     "output_type": "stream",
     "text": [
      "Reference Answer for Question 3:\n",
      "\n",
      "On July 25th, you have Assignment 4 in Marketing Analytics due at 11:59. For this assignment you have to:\n",
      "\n",
      "1. Choose a marketing problem or question that interests you. This could be related to customer behavior, market trends, campaign effectiveness, etc.    \n",
      "\n",
      "2. Collect relevant data from available sources (e.g., company databases, online datasets, surveys). Ensure that your data is clean and properly formatted.  \n",
      "\n",
      "3. Use appropriate software tools (e.g., R, Python, Tableau) to conduct the following analyses:   \n",
      "• a. Data Cleaning and Preparation: Ensure the data is clean, complete, and formatted correctly.  \n",
      "• b. Exploratory Data Analysis (EDA): Explore the data to understand its structure and identify key patterns.  \n",
      "• c. Hypothesis Testing: Formulate and test hypotheses related to your marketing problem.    \n",
      "• d. Predictive Modeling: Build models to predict future outcomes related to your marketing problem.      \n",
      "• e. Optimization Analysis: Identify the optimal marketing strategies based on your analysis.   \n",
      "\n",
      "4. Create visualizations to support your analysis and findings.\n",
      "\n",
      "5. Write a comprehensive report that includes the following sections:   \n",
      "• a. Introduction \n",
      "• b. Data Collection and Preparation      \n",
      "• c. Exploratory Data Analysis      \n",
      "• d. Hypothesis Testing \n",
      "• e. Predictive Modeling      \n",
      "• f. Optimization Analysis    \n",
      "• g. Strategic Recommendations      \n",
      "• h. Conclusion   \n",
      "\n",
      "6. Prepare a presentation that summarizes your project, key findings, and recommendations. Your presentation should be clear, concise, and supported by visuals.    \n",
      "\n",
      "7. Submit your report, presentation, and any supporting files (e.g., code, data, visualizations) through the course's online submission system.\n",
      "\n"
     ]
    }
   ],
   "source": [
    "reference_answer_q3 = \"\"\"\n",
    "On July 25th, you have Assignment 4 in Marketing Analytics due at 11:59. For this assignment you have to:\n",
    "\n",
    "1. Choose a marketing problem or question that interests you. This could be related to customer behavior, market trends, campaign effectiveness, etc.    \n",
    "\n",
    "2. Collect relevant data from available sources (e.g., company databases, online datasets, surveys). Ensure that your data is clean and properly formatted.  \n",
    "\n",
    "3. Use appropriate software tools (e.g., R, Python, Tableau) to conduct the following analyses:   \n",
    "• a. Data Cleaning and Preparation: Ensure the data is clean, complete, and formatted correctly.  \n",
    "• b. Exploratory Data Analysis (EDA): Explore the data to understand its structure and identify key patterns.  \n",
    "• c. Hypothesis Testing: Formulate and test hypotheses related to your marketing problem.    \n",
    "• d. Predictive Modeling: Build models to predict future outcomes related to your marketing problem.      \n",
    "• e. Optimization Analysis: Identify the optimal marketing strategies based on your analysis.   \n",
    "\n",
    "4. Create visualizations to support your analysis and findings.\n",
    "\n",
    "5. Write a comprehensive report that includes the following sections:   \n",
    "• a. Introduction \n",
    "• b. Data Collection and Preparation      \n",
    "• c. Exploratory Data Analysis      \n",
    "• d. Hypothesis Testing \n",
    "• e. Predictive Modeling      \n",
    "• f. Optimization Analysis    \n",
    "• g. Strategic Recommendations      \n",
    "• h. Conclusion   \n",
    "\n",
    "6. Prepare a presentation that summarizes your project, key findings, and recommendations. Your presentation should be clear, concise, and supported by visuals.    \n",
    "\n",
    "7. Submit your report, presentation, and any supporting files (e.g., code, data, visualizations) through the course's online submission system.\n",
    "\"\"\"\n",
    "print(\"Reference Answer for Question 3:\\n\" + reference_answer_q3)"
   ]
  },
  {
   "cell_type": "markdown",
   "id": "c4f9f794-b3c7-4679-b5f7-f626c13c987a",
   "metadata": {},
   "source": [
    "## LLM"
   ]
  },
  {
   "cell_type": "code",
   "execution_count": 17,
   "id": "5fe19080-eaf6-47e0-a45c-3e6ab07ed721",
   "metadata": {
    "tags": []
   },
   "outputs": [],
   "source": [
    "evaluation_llm = ChatVertexAI(model_name=\"gemini-1.0-pro\")"
   ]
  },
  {
   "cell_type": "markdown",
   "id": "72e3c687-29e9-4509-8483-7d31ccff14ba",
   "metadata": {
    "tags": []
   },
   "source": [
    "## Comparison Evaluator - Pairwise String Comparison"
   ]
  },
  {
   "cell_type": "code",
   "execution_count": 18,
   "id": "bf4bd2b2-9bc1-4ba4-93e6-847037e090d1",
   "metadata": {
    "tags": []
   },
   "outputs": [],
   "source": [
    "evaluator = load_evaluator(\"labeled_pairwise_string\", llm=evaluation_llm)"
   ]
  },
  {
   "cell_type": "code",
   "execution_count": 19,
   "id": "acdc0ae2-a92c-4ff4-93e8-efbd21e68be3",
   "metadata": {
    "tags": []
   },
   "outputs": [
    {
     "data": {
      "text/plain": [
       "{'reasoning': '## Evaluation of Assistant A and Assistant B\\n\\n**Assistant A:**\\n\\n* **Helpfulness:** Yes, Assistant A clearly states that the user has a quiz due on July 21st. This information is helpful and directly answers the user\\'s question.\\n* **Relevance:**  The response mentions a \"Statistical Analysis Quiz 2,\" but it\\'s unclear whether this is the specific quiz the user is asking about. More context is needed to confirm if it is relevant.\\n* **Correctness:** Assistant A incorrectly mentions the due time as 23:59:00. The user\\'s question states the quiz is due at 11:59, so this is inaccurate information.\\n* **Depth:** The response lacks depth. While it mentions the due date and time, it doesn\\'t provide any further details about the quiz, such as the specific subject matter or any instructions the user might need.\\n\\n**Assistant B:**\\n\\n* **Helpfulness:** Assistant B also clearly states that the user has a quiz due on July 21st. This directly answers the user\\'s question.\\n* **Relevance:** Assistant B explicitly mentions \"Statistical Analysis Quiz 2,\" making it more likely that this is the specific quiz the user is inquiring about.\\n* **Correctness:** The response correctly mentions the due date as July 21st, 2024, which aligns with the user\\'s statement. However, it doesn\\'t mention the due time, which could be helpful information.\\n* **Depth:** Similar to Assistant A, the response lacks depth and doesn\\'t provide details about the quiz other than the due date.\\n\\n## Conclusion\\n\\nBoth Assistant A and Assistant B provide helpful and relevant answers to the user\\'s question. However, neither response offers a high degree of depth or accuracy. \\n\\n**Final verdict:** \\n\\n**[[B]]**\\n\\nAssistant B\\'s response is considered slightly better due to its higher accuracy in mentioning the correct date and the more specific mention of \"Statistical Analysis Quiz 2.\" However, both responses could benefit from including additional details such as the due time and any relevant information about the quiz itself.\\n',\n",
       " 'value': 'B',\n",
       " 'score': 0}"
      ]
     },
     "execution_count": 19,
     "metadata": {},
     "output_type": "execute_result"
    }
   ],
   "source": [
    "# Question 1\n",
    "evaluator.evaluate_string_pairs(\n",
    "    prediction=response1_FLASH,\n",
    "    prediction_b=response1_PRO,\n",
    "    input=question1,\n",
    "    reference=reference_answer_q1,\n",
    ")"
   ]
  },
  {
   "cell_type": "code",
   "execution_count": 20,
   "id": "f6800095-8eb2-477b-beac-f5ccbb4d340a",
   "metadata": {
    "tags": []
   },
   "outputs": [
    {
     "data": {
      "text/plain": [
       "{'reasoning': \"## Evaluation of Assistant A and B's Responses\\n\\n**Assistant A:**\\n\\n* **Helpfulness:** High. The response provides a comprehensive overview of the course, including the course description, learning objectives, required materials, course schedule, grading and evaluation, and policies. This information would be helpful for a student considering taking the course.\\n* **Relevance:** High. The response directly addresses the user's question about the course description for Marketing Analytics.\\n* **Correctness:** High. The information provided in the response appears to be accurate and consistent with standard marketing analytics curriculum.\\n* **Depth:** High. The response goes beyond simply stating the course description and provides details about the topics covered, the learning objectives, the assessments, and the policies. \\n* **Creativity:** Medium. The response is well-organized and informative, but it does not exhibit any  particular creativity.\\n\\n**Assistant B:**\\n\\n* **Helpfulness:** Medium. The response provides a general statement about the course but lacks the specific details that would be helpful for a student considering taking the course.\\n* **Relevance:** High. The response refers to the topic of marketing analytics, which is relevant to the user's question.\\n* **Correctness:** High. The statement about the course content is accurate.\\n* **Depth:** Low. The response is very brief and lacks any details about the course content, learning objectives, assessments, or policies.\\n* **Creativity:** Low. The response is a simple statement and does not exhibit any creativity.\\n\\n## Verdict:\\n\\n**[[A]]**\\n\\nAssistant A's response is superior to Assistant B's response in terms of helpfulness, depth, and the level of detail provided. While both responses are relevant and correct, Assistant A's response provides a more comprehensive and informative overview of the course, which is more likely to be helpful to the user. \\n\",\n",
       " 'value': 'A',\n",
       " 'score': 1}"
      ]
     },
     "execution_count": 20,
     "metadata": {},
     "output_type": "execute_result"
    }
   ],
   "source": [
    "# Question 2\n",
    "evaluator.evaluate_string_pairs(\n",
    "    prediction=response2_FLASH,\n",
    "    prediction_b=response2_PRO,\n",
    "    input=question2,\n",
    "    reference=reference_answer_q2,\n",
    ")"
   ]
  },
  {
   "cell_type": "code",
   "execution_count": 21,
   "id": "e6fd4397-01f4-4308-905a-e75409b69616",
   "metadata": {
    "tags": []
   },
   "outputs": [
    {
     "data": {
      "text/plain": [
       "{'reasoning': \"## Evaluation of Assistant A and Assistant B \\n\\nBoth Assistant A and Assistant B provide helpful and relevant responses to the user's question. They accurately identify the Marketing Analytics Assignment 4 due on July 25th and provide a detailed breakdown of the assignment instructions.\\n\\nHere's a comparison based on the specified criteria:\\n\\n**Helpfulness:** \\n- Both assistants are equally helpful, providing clear and comprehensive instructions for the Marketing Analytics Assignment 4.\\n\\n**Relevance:**\\n- Both assistants correctly focus on the Marketing Analytics Assignment 4, which is due on July 25th.\\n\\n**Correctness:**\\n- Both assistants accurately describe the assignment requirements, including identifying the need for a chosen marketing problem, data collection and preparation, analysis steps, visualization, report writing, presentation, and submission requirements.\\n\\n**Depth:**\\n- Assistant A provides a slightly more in-depth response by including additional information like evaluation criteria and submission details.\\n\\n**Creativity:**\\n- Neither assistant exhibits significant creativity in their responses.\\n\\n**Level of Detail:**\\n- Assistant A provides a slightly higher level of detail, particularly in the descriptions of the analysis steps and report structure.\\n\\n**Overall:**\\n- Assistant A presents a slightly more comprehensive response with additional details and deeper explanations. However, Assistant B also provides a clear and informative response, effectively addressing the user's question.\\n\\n**Verdict:**\\n\\nBased on the overall evaluation, **[[A]]**: Assistant A provides a more comprehensive and detailed response addressing all aspects of the user's question. However, Assistant B remains a viable option as it also delivers a clear and accurate explanation of the assignment requirements. The user may ultimately choose the response that resonates best with their learning preferences.\\n\",\n",
       " 'value': 'A',\n",
       " 'score': 1}"
      ]
     },
     "execution_count": 21,
     "metadata": {},
     "output_type": "execute_result"
    }
   ],
   "source": [
    "# Question 3\n",
    "evaluator.evaluate_string_pairs(\n",
    "    prediction=response3_FLASH,\n",
    "    prediction_b=response3_PRO,\n",
    "    input=question3,\n",
    "    reference=reference_answer_q3,\n",
    ")"
   ]
  },
  {
   "cell_type": "markdown",
   "id": "89f1d2cb-1933-4719-be4f-5c7cb111d0b3",
   "metadata": {},
   "source": [
    "## Comparison Evaluator - Prompt Template"
   ]
  },
  {
   "cell_type": "code",
   "execution_count": 22,
   "id": "702e73af-e09b-4a22-8b06-b1979bde79c0",
   "metadata": {
    "tags": []
   },
   "outputs": [],
   "source": [
    "prompt_template = PromptTemplate.from_template(\n",
    "    \"\"\"\n",
    "    Given the input context, which do you prefer: A or B?\n",
    "Evaluate based on the following criteria: \n",
    "{criteria}\n",
    "\n",
    "Reason step by step and finally, respond with either [[A]] or [[B]] on its own line. Consider the following before choosing [[A]] or [[B]]. \n",
    "\n",
    "1. Correctness:\n",
    " - Definition: The response is accurate and includes information from the user's data. \n",
    " - Examples: The answer may be totally incorrect or partially correct depending on how much information from the user's data has been included. If the response correctly paraphrases or directly uses details from the reference, it scores higher. The response may include a logical hypothesis, such as answering the question based on other information that it is aware of about the answer (e.g., course knowledge). This is acceptable, as long as the response seems logical and is not trying to make it seem as though the information is directly from the user's data. If the Agent does not know the answer, then the score should be \"N/A\"\n",
    "\n",
    "2. Relevant:\n",
    " - Definition: The response directly addresses the question and stays within the scope of the user's data.\n",
    " - Examples: Providing relevant links or additional information pertinent to the user's query is considered relevant. Responses outside of the user's data may be irrelevant. However, the response may include information relevant, such as external links to help the user with their assignments. These types of information are relevant if they are related to the question.  \n",
    " \n",
    "3. Conciseness: \n",
    " - Definition: The response is succinct, avoiding unnecessary details or rambling.\n",
    " - Examples: The Agent may be synthesizing large amounts of data from the user's provided data. A brief and to-the-point answer that is easy to understand scores higher.\n",
    " \n",
    "4. Details:\n",
    " - Definition: The response includes pertinant details that fully answer the question. The most important details are those that answer the question in full. \n",
    " - Examples: Comprehensive answers that cover all aspects of the question will score higher.\n",
    " \n",
    "5. Helpfulness:\n",
    " - Definition: The response is helpful to the user in that it provides them with the information that they need.\n",
    " - Examples: Providing responses that answer the question is helpful. Additional resources, if applicable, when relevant can be helpful, too, but may not always be present in the answer.  \n",
    " \n",
    "6. Coherence:\n",
    " - Definition: The response has a logical structure, makes sense and is and easy to follow.  \n",
    " - Examples: Responses that are clear and organized score higher. \n",
    " \n",
    "7. Conduct:\n",
    " - Definition: The response is polite, non-offensive, and maintains a professional tone.\n",
    " - Examples: The Agent's response should NOT include any harmful, malicious, misogyny, criminal, or insensitive information, as that will reduce the score. \n",
    "\n",
    "\n",
    "The below is a scale that can further assist you: \n",
    "\n",
    "1. Correctness:\n",
    "A: Correctness refers to the accuracy of the response and its inclusion of information from the user's data. Suppose A includes accurate and relevant information based on the user's provided data or logical hypotheses derived from that data.\n",
    "B: If B lacks sufficient accuracy or doesn't incorporate the user's data effectively, it will score lower.\n",
    "\n",
    "2. Relevance:\n",
    "A: Relevance means the response directly addresses the user's question and stays within the scope of the user's data. If A stays focused on the user's query and uses pertinent information from the data, it is more relevant.\n",
    "B: If B includes extraneous information or strays from the user's data, it is less relevant.\n",
    "\n",
    "3. Conciseness:\n",
    "A: Conciseness is about being succinct and to the point. If A provides a brief and clear response without unnecessary details, it scores higher.\n",
    "B: If B is verbose or includes irrelevant information, it scores lower.\n",
    "\n",
    "4. Details:\n",
    "A: Details involve including all necessary information to fully answer the question. If A provides comprehensive and pertinent details that fully address the user's question, it scores higher.\n",
    "B: If B is missing important details or does not fully answer the question, it scores lower.\n",
    "\n",
    "5. Helpfulness:\n",
    "A: Helpfulness is about providing the information the user needs. If A effectively answers the question and offers useful resources or guidance, it is more helpful.\n",
    "B: If B fails to address the user's needs or provide useful information, it is less helpful.\n",
    "\n",
    "6. Coherence:\n",
    "A: Coherence means the response is logically structured and easy to follow. If A is clear, organized, and makes sense, it scores higher.\n",
    "B: If B is disorganized or confusing, it scores lower.\n",
    "\n",
    "7. Conduct:\n",
    "A: Conduct refers to the response being polite, non-offensive, and professional. If A maintains a respectful and professional tone, it scores higher.\n",
    "B: If B includes any harmful or offensive content, it scores lower.\n",
    "\n",
    "Based on the evaluations, if A meets more criteria satisfactorily compared to B, then the response should be:\n",
    "\n",
    "[[A]]\n",
    "\n",
    "Conversely, if B performs better, then the response should be:\n",
    "\n",
    "[[B]]\n",
    "\n",
    "One key piece of information is that the Agent is supposed to be a helpfu AI assistant that supports university students by answering questions based on their data (i.e., user data). This data may include course materials or information from their calendars.\n",
    "\n",
    "DATA:\n",
    "---------\n",
    "Question: {input}\n",
    "\n",
    "Reference: {reference}\n",
    "1. The reference will include information from the user's data and can be used to compare with the Agent's response. \n",
    "2. The answer should perform well against the categories listed in the Grading Rubric. \n",
    "3. One example of a good response includes when a user asks about what they have to do for an assignment, the response should include details about the assignment that directly comes from their user data.The Agent's response may also include relevant links for the assignment. So, if the assignment is about conducting hypothesis testing, the links should concern that topic.  \n",
    "4. Don't make assumptions about what is or is not the accurate answer. The referance answer is the \"source of truth.\" \n",
    "\n",
    "A: {prediction}\n",
    "B: {prediction_b}\n",
    "\n",
    "\"\"\")"
   ]
  },
  {
   "cell_type": "code",
   "execution_count": 23,
   "id": "7984d443-2383-4033-81be-b5a9d0efeca7",
   "metadata": {
    "tags": []
   },
   "outputs": [],
   "source": [
    "evaluator = load_evaluator(\"labeled_pairwise_string\", prompt=prompt_template, llm=evaluation_llm)"
   ]
  },
  {
   "cell_type": "code",
   "execution_count": 24,
   "id": "77c97429-e237-4c7d-b585-d5180574fcfc",
   "metadata": {
    "tags": []
   },
   "outputs": [
    {
     "data": {
      "text/plain": [
       "PromptTemplate(input_variables=['input', 'prediction', 'prediction_b', 'reference'], partial_variables={'criteria': 'For this evaluation, you should primarily consider the following criteria:\\nhelpfulness: Is the submission helpful, insightful, and appropriate?\\nrelevance: Is the submission referring to a real quote from the text?\\ncorrectness: Is the submission correct, accurate, and factual?\\ndepth: Does the submission demonstrate depth of thought?'}, template='\\n    Given the input context, which do you prefer: A or B?\\nEvaluate based on the following criteria: \\n{criteria}\\n\\nReason step by step and finally, respond with either [[A]] or [[B]] on its own line. Consider the following before choosing [[A]] or [[B]]. \\n\\n1. Correctness:\\n - Definition: The response is accurate and includes information from the user\\'s data. \\n - Examples: The answer may be totally incorrect or partially correct depending on how much information from the user\\'s data has been included. If the response correctly paraphrases or directly uses details from the reference, it scores higher. The response may include a logical hypothesis, such as answering the question based on other information that it is aware of about the answer (e.g., course knowledge). This is acceptable, as long as the response seems logical and is not trying to make it seem as though the information is directly from the user\\'s data. If the Agent does not know the answer, then the score should be \"N/A\"\\n\\n2. Relevant:\\n - Definition: The response directly addresses the question and stays within the scope of the user\\'s data.\\n - Examples: Providing relevant links or additional information pertinent to the user\\'s query is considered relevant. Responses outside of the user\\'s data may be irrelevant. However, the response may include information relevant, such as external links to help the user with their assignments. These types of information are relevant if they are related to the question.  \\n \\n3. Conciseness: \\n - Definition: The response is succinct, avoiding unnecessary details or rambling.\\n - Examples: The Agent may be synthesizing large amounts of data from the user\\'s provided data. A brief and to-the-point answer that is easy to understand scores higher.\\n \\n4. Details:\\n - Definition: The response includes pertinant details that fully answer the question. The most important details are those that answer the question in full. \\n - Examples: Comprehensive answers that cover all aspects of the question will score higher.\\n \\n5. Helpfulness:\\n - Definition: The response is helpful to the user in that it provides them with the information that they need.\\n - Examples: Providing responses that answer the question is helpful. Additional resources, if applicable, when relevant can be helpful, too, but may not always be present in the answer.  \\n \\n6. Coherence:\\n - Definition: The response has a logical structure, makes sense and is and easy to follow.  \\n - Examples: Responses that are clear and organized score higher. \\n \\n7. Conduct:\\n - Definition: The response is polite, non-offensive, and maintains a professional tone.\\n - Examples: The Agent\\'s response should NOT include any harmful, malicious, misogyny, criminal, or insensitive information, as that will reduce the score. \\n\\n\\nThe below is a scale that can further assist you: \\n\\n1. Correctness:\\nA: Correctness refers to the accuracy of the response and its inclusion of information from the user\\'s data. Suppose A includes accurate and relevant information based on the user\\'s provided data or logical hypotheses derived from that data.\\nB: If B lacks sufficient accuracy or doesn\\'t incorporate the user\\'s data effectively, it will score lower.\\n\\n2. Relevance:\\nA: Relevance means the response directly addresses the user\\'s question and stays within the scope of the user\\'s data. If A stays focused on the user\\'s query and uses pertinent information from the data, it is more relevant.\\nB: If B includes extraneous information or strays from the user\\'s data, it is less relevant.\\n\\n3. Conciseness:\\nA: Conciseness is about being succinct and to the point. If A provides a brief and clear response without unnecessary details, it scores higher.\\nB: If B is verbose or includes irrelevant information, it scores lower.\\n\\n4. Details:\\nA: Details involve including all necessary information to fully answer the question. If A provides comprehensive and pertinent details that fully address the user\\'s question, it scores higher.\\nB: If B is missing important details or does not fully answer the question, it scores lower.\\n\\n5. Helpfulness:\\nA: Helpfulness is about providing the information the user needs. If A effectively answers the question and offers useful resources or guidance, it is more helpful.\\nB: If B fails to address the user\\'s needs or provide useful information, it is less helpful.\\n\\n6. Coherence:\\nA: Coherence means the response is logically structured and easy to follow. If A is clear, organized, and makes sense, it scores higher.\\nB: If B is disorganized or confusing, it scores lower.\\n\\n7. Conduct:\\nA: Conduct refers to the response being polite, non-offensive, and professional. If A maintains a respectful and professional tone, it scores higher.\\nB: If B includes any harmful or offensive content, it scores lower.\\n\\nBased on the evaluations, if A meets more criteria satisfactorily compared to B, then the response should be:\\n\\n[[A]]\\n\\nConversely, if B performs better, then the response should be:\\n\\n[[B]]\\n\\nOne key piece of information is that the Agent is supposed to be a helpfu AI assistant that supports university students by answering questions based on their data (i.e., user data). This data may include course materials or information from their calendars.\\n\\nDATA:\\n---------\\nQuestion: {input}\\n\\nReference: {reference}\\n1. The reference will include information from the user\\'s data and can be used to compare with the Agent\\'s response. \\n2. The answer should perform well against the categories listed in the Grading Rubric. \\n3. One example of a good response includes when a user asks about what they have to do for an assignment, the response should include details about the assignment that directly comes from their user data.The Agent\\'s response may also include relevant links for the assignment. So, if the assignment is about conducting hypothesis testing, the links should concern that topic.  \\n4. Don\\'t make assumptions about what is or is not the accurate answer. The referance answer is the \"source of truth.\" \\n\\nA: {prediction}\\nB: {prediction_b}\\n\\n')"
      ]
     },
     "execution_count": 24,
     "metadata": {},
     "output_type": "execute_result"
    }
   ],
   "source": [
    "evaluator.prompt"
   ]
  },
  {
   "cell_type": "code",
   "execution_count": 25,
   "id": "3bd7c21a-a5bb-4f40-8af5-3c08693d2998",
   "metadata": {
    "tags": []
   },
   "outputs": [
    {
     "data": {
      "text/plain": [
       "{'reasoning': \"## Evaluation:\\n\\n**A:**\\n\\n* **Correctness:**  ✅ A correctly identifies the assignment (Quiz 2 in Statistical Analysis) and its due date (July 21st) based on the reference.\\n* **Relevance:** ✅ A directly addresses the user's question about assignments due on July 21st and stays within the scope of the user's data.\\n* **Conciseness:** ✅ A is concise and to-the-point, providing the essential information without unnecessary details.\\n* **Details:**  ✅ A includes the key details about the assignment: name, subject, and due date and time.\\n* **Helpfulness:** ✅ A helps the user by informing them about their assignment and its due date, allowing them to prepare accordingly.\\n* **Coherence:** ✅ A is clear, organized, and easy to follow.\\n* **Conduct:** ✅ A is polite, non-offensive, and maintains a professional tone.\\n\\n**B:**\\n\\n* **Correctness:**  ❌ B incorrectly states the due date as July 21st, 2024, while the reference clearly mentions the year as 2023.\\n* **Relevance:** ✅ B directly addresses the user's question about assignments due on July 21st and stays within the scope of the user's data.\\n* **Conciseness:** ✅ B is concise and to-the-point, providing the essential information without unnecessary details.\\n* **Details:**  ✅ B includes the key details about the assignment: name and subject.\\n* **Helpfulness:**  ❌  Although B provides some information, the incorrect due date could negatively impact the user's preparation for the assignment.\\n* **Coherence:** ✅ B is clear, organized, and easy to follow.\\n* **Conduct:** ✅ B is polite, non-offensive, and maintains a professional tone.\\n\\n\\n## Conclusion:\\n\\nBased on the evaluation, **[[A]]** is the preferred response. It outperforms **B** in terms of accuracy, correctness, and overall helpfulness to the user by providing the correct information about the assignment due on July 21st. \\n\",\n",
       " 'value': 'A',\n",
       " 'score': 1}"
      ]
     },
     "execution_count": 25,
     "metadata": {},
     "output_type": "execute_result"
    }
   ],
   "source": [
    "# Question 1\n",
    "evaluator.evaluate_string_pairs(\n",
    "    prediction=response1_FLASH,\n",
    "    prediction_b=response1_PRO,\n",
    "    input=question1,\n",
    "    reference=reference_answer_q1,\n",
    ")"
   ]
  },
  {
   "cell_type": "code",
   "execution_count": 26,
   "id": "21f8f082-bece-442a-b062-d3f6ae0b8673",
   "metadata": {
    "tags": []
   },
   "outputs": [
    {
     "data": {
      "text/plain": [
       "{'reasoning': '## Evaluation of Response A and Response B\\n\\n**Based on the provided criteria, Response A is the preferred choice.** \\n\\nHere\\'s a detailed breakdown of the evaluation:\\n\\n**Correctness:**\\n\\n* **Response A:** Directly references the provided course description, accurately summarizing its key points and learning objectives. \\n* **Response B:**  Provides a more generic overview of marketing analytics, not directly reflecting the specific details mentioned in the reference.\\n\\n**Relevance:**\\n\\n* **Response A:** Remains focused on the specific course \"Marketing Analytics\" and its syllabus, aligning with the user\\'s question.\\n* **Response B:** Offers a broader view of marketing analytics, potentially straying from the user\\'s specific interest in the course syllabus. \\n\\n**Conciseness:**\\n\\n* **Response A:** Presents a concise and well-structured outline of the syllabus, covering essential information without unnecessary elaboration. \\n* **Response B:** Appears slightly more verbose, containing general information beyond the syllabus specifics. \\n\\n**Details:**\\n\\n* **Response A:** Includes pertinent details about the course content, learning objectives, grading structure, and policies, addressing the user\\'s need for comprehensive information. \\n* **Response B:** Provides a less detailed overview, lacking specific details about the course syllabus and assessment methods. \\n\\n**Helpfulness:**\\n\\n* **Response A:** Offers a practical and informative syllabus, directly addressing the user\\'s needs and providing a clear understanding of the course expectations. \\n* **Response B:** Delivers less targeted information, potentially helpful for general understanding but not as directly relevant to the user\\'s specific inquiry. \\n\\n**Coherence:**\\n\\n* **Response A:** Maintains a logical structure, presenting information in a clear and organized manner, making it easy to follow and understand. \\n* **Response B:** Lacks the same level of organization and may come across as slightly less structured. \\n\\n**Conduct:**\\n\\n* **Both Response A and Response B:** Maintain a polite and professional tone, adhering to the conduct guidelines. \\n\\n\\n**Overall:** Response A demonstrates a clear understanding of the user\\'s data and inquiry, providing a relevant, accurate, and detailed response aligned with the specific course syllabus. \\n\\nTherefore, the preferred response is:\\n\\n[[A]] \\n',\n",
       " 'value': 'A',\n",
       " 'score': 1}"
      ]
     },
     "execution_count": 26,
     "metadata": {},
     "output_type": "execute_result"
    }
   ],
   "source": [
    "# Question 2\n",
    "evaluator.evaluate_string_pairs(\n",
    "    prediction=response2_FLASH,\n",
    "    prediction_b=response2_PRO,\n",
    "    input=question2,\n",
    "    reference=reference_answer_q2,\n",
    ")"
   ]
  },
  {
   "cell_type": "code",
   "execution_count": 27,
   "id": "e50c6e19-a1ea-4589-8d3b-c993760eda5b",
   "metadata": {
    "tags": []
   },
   "outputs": [
    {
     "data": {
      "text/plain": [
       "{'reasoning': \"[[B]]\\n## Response Evaluation:\\n\\n**Correctness:** Response B accurately summarizes the assignment due date and includes the relevant instructions from the reference. While it doesn't directly quote from the reference, it accurately conveys the essential information. \\n\\n**Relevance:** Response B directly addresses the user's question about the assignments due on July 25th and the specific requirements for Assignment 4.\\n\\n**Conciseness:** Response B provides a succinct summary of the assignment details. \\n\\n**Details:** Response B includes the key details about the due date, assignment title, and main requirements, which fully address the user's question.\\n\\n**Helpfulness:** Response B provides the necessary information about the assignment and clearly explains what needs to be done. It is a helpful and actionable response.\\n\\n**Coherence:** Response B presents information in a clear and structured format, making it easy to follow.\\n\\n**Conduct:** The response maintains a professional and non-offensive tone.\\n\\nOverall, Response B scores higher than Response A in terms of the specified criteria due to its greater accuracy, completeness, and helpfulness. It provides the user with a direct and informative answer to their specific query.\\n\\n## Reasons for Choosing B over A:\\n\\n- Response B accurately references the assignment due date and essential details, while Response A only mentions that there is one assignment due.\\n- B provides the complete list of steps involved in the assignment, whereas A solely focuses on choosing a marketing problem.\\n- The information in B aligns more closely with the reference text compared to Response A.\\n- B offers a more comprehensive and informative answer, while A appears incomplete and less helpful.\\n\",\n",
       " 'value': 'B',\n",
       " 'score': 0}"
      ]
     },
     "execution_count": 27,
     "metadata": {},
     "output_type": "execute_result"
    }
   ],
   "source": [
    "# Question 3\n",
    "evaluator.evaluate_string_pairs(\n",
    "    prediction=response3_FLASH,\n",
    "    prediction_b=response3_PRO,\n",
    "    input=question3,\n",
    "    reference=reference_answer_q3,\n",
    ")"
   ]
  }
 ],
 "metadata": {
  "environment": {
   "kernel": "python3",
   "name": "tf2-cpu.2-11.m119",
   "type": "gcloud",
   "uri": "us-docker.pkg.dev/deeplearning-platform-release/gcr.io/tf2-cpu.2-11:m119"
  },
  "kernelspec": {
   "display_name": "Python 3",
   "language": "python",
   "name": "python3"
  },
  "language_info": {
   "codemirror_mode": {
    "name": "ipython",
    "version": 3
   },
   "file_extension": ".py",
   "mimetype": "text/x-python",
   "name": "python",
   "nbconvert_exporter": "python",
   "pygments_lexer": "ipython3",
   "version": "3.10.14"
  }
 },
 "nbformat": 4,
 "nbformat_minor": 5
}
